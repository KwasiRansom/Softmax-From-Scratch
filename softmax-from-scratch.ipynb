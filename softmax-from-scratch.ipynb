{
 "cells": [
  {
   "cell_type": "markdown",
   "metadata": {
    "papermill": {
     "duration": 0.026006,
     "end_time": "2021-12-30T05:10:18.542497",
     "exception": false,
     "start_time": "2021-12-30T05:10:18.516491",
     "status": "completed"
    },
    "tags": []
   },
   "source": [
    "# **Introduction**"
   ]
  },
  {
   "cell_type": "markdown",
   "metadata": {
    "papermill": {
     "duration": 0.024889,
     "end_time": "2021-12-30T05:10:18.592342",
     "exception": false,
     "start_time": "2021-12-30T05:10:18.567453",
     "status": "completed"
    },
    "tags": []
   },
   "source": [
    "   The goal of this notebook is to explain and implement Gradient Descent for Softmax Regression (without using Scikit-Learn).\n",
    "\n",
    "   Logistic regression is using a probability between 0 and 1 (based on a sigmoid function) to identify which of two categories a probability falls into (eg. this is the number 5 or is not the number 5). \n",
    "   \n",
    "   Softmax regression is the same thing as logistic regression, but it uses more than two possible outcomes (or output classes), outputs a probability between 0 and 1 for each outcome, and then based on which of those outcomes has the highest probability (eg. \"I am 80% sure that I am looking at 4. I am going to say it is a 4.\") . This entails that the classes that we are classifying be exclusive (eg. the single digit number we are identifying is not both an 8 and a 0, it is one or the other)."
   ]
  },
  {
   "cell_type": "markdown",
   "metadata": {
    "papermill": {
     "duration": 0.024736,
     "end_time": "2021-12-30T05:10:18.642183",
     "exception": false,
     "start_time": "2021-12-30T05:10:18.617447",
     "status": "completed"
    },
    "tags": []
   },
   "source": [
    "We are going to work on the MNIST Data set as the classes are exclusive (they are digits 0-9 and they are only one digit at a time, not 5 and 3 both for example)."
   ]
  },
  {
   "cell_type": "markdown",
   "metadata": {
    "papermill": {
     "duration": 0.024532,
     "end_time": "2021-12-30T05:10:18.692073",
     "exception": false,
     "start_time": "2021-12-30T05:10:18.667541",
     "status": "completed"
    },
    "tags": []
   },
   "source": [
    "**Imports**"
   ]
  },
  {
   "cell_type": "code",
   "execution_count": 1,
   "metadata": {
    "execution": {
     "iopub.execute_input": "2021-12-30T05:10:18.751101Z",
     "iopub.status.busy": "2021-12-30T05:10:18.750377Z",
     "iopub.status.idle": "2021-12-30T05:11:10.016391Z",
     "shell.execute_reply": "2021-12-30T05:11:10.016871Z",
     "shell.execute_reply.started": "2021-12-30T04:33:33.986969Z"
    },
    "papermill": {
     "duration": 51.299788,
     "end_time": "2021-12-30T05:11:10.017002",
     "exception": false,
     "start_time": "2021-12-30T05:10:18.717214",
     "status": "completed"
    },
    "tags": []
   },
   "outputs": [
    {
     "data": {
      "text/html": [
       "        <script type=\"text/javascript\">\n",
       "        window.PlotlyConfig = {MathJaxConfig: 'local'};\n",
       "        if (window.MathJax) {MathJax.Hub.Config({SVG: {font: \"STIX-Web\"}});}\n",
       "        if (typeof require !== 'undefined') {\n",
       "        require.undef(\"plotly\");\n",
       "        requirejs.config({\n",
       "            paths: {\n",
       "                'plotly': ['https://cdn.plot.ly/plotly-latest.min']\n",
       "            }\n",
       "        });\n",
       "        require(['plotly'], function(Plotly) {\n",
       "            window._Plotly = Plotly;\n",
       "        });\n",
       "        }\n",
       "        </script>\n",
       "        "
      ]
     },
     "metadata": {},
     "output_type": "display_data"
    },
    {
     "data": {
      "text/html": [
       "        <script type=\"text/javascript\">\n",
       "        window.PlotlyConfig = {MathJaxConfig: 'local'};\n",
       "        if (window.MathJax) {MathJax.Hub.Config({SVG: {font: \"STIX-Web\"}});}\n",
       "        if (typeof require !== 'undefined') {\n",
       "        require.undef(\"plotly\");\n",
       "        requirejs.config({\n",
       "            paths: {\n",
       "                'plotly': ['https://cdn.plot.ly/plotly-latest.min']\n",
       "            }\n",
       "        });\n",
       "        require(['plotly'], function(Plotly) {\n",
       "            window._Plotly = Plotly;\n",
       "        });\n",
       "        }\n",
       "        </script>\n",
       "        "
      ]
     },
     "metadata": {},
     "output_type": "display_data"
    },
    {
     "data": {
      "text/plain": [
       "dict_keys(['data', 'target', 'frame', 'categories', 'feature_names', 'target_names', 'DESCR', 'details', 'url'])"
      ]
     },
     "execution_count": 1,
     "metadata": {},
     "output_type": "execute_result"
    }
   ],
   "source": [
    "import plotly as py\n",
    "#import chart_studio.plotly as py\n",
    "import cufflinks as cf\n",
    "import plotly.express as px\n",
    "import plotly.graph_objects as go\n",
    "import seaborn as sns\n",
    "import matplotlib.pyplot as plt\n",
    "from plotly.offline import download_plotlyjs, init_notebook_mode, plot, iplot\n",
    "init_notebook_mode(connected=True)\n",
    "cf.go_offline()\n",
    "from sklearn.model_selection import train_test_split\n",
    "from sklearn.linear_model import LogisticRegression\n",
    "from sklearn.metrics import accuracy_score\n",
    "import numpy as np\n",
    "import pandas as pd\n",
    "\n",
    "from sklearn.datasets import fetch_openml\n",
    "mnist = fetch_openml('mnist_784', version=1)\n",
    "mnist.keys()"
   ]
  },
  {
   "cell_type": "code",
   "execution_count": 2,
   "metadata": {
    "execution": {
     "iopub.execute_input": "2021-12-30T05:11:10.074241Z",
     "iopub.status.busy": "2021-12-30T05:11:10.073429Z",
     "iopub.status.idle": "2021-12-30T05:11:10.076905Z",
     "shell.execute_reply": "2021-12-30T05:11:10.077282Z",
     "shell.execute_reply.started": "2021-12-30T04:34:33.28702Z"
    },
    "papermill": {
     "duration": 0.034298,
     "end_time": "2021-12-30T05:11:10.077389",
     "exception": false,
     "start_time": "2021-12-30T05:11:10.043091",
     "status": "completed"
    },
    "tags": []
   },
   "outputs": [
    {
     "data": {
      "text/plain": [
       "(70000, 784)"
      ]
     },
     "execution_count": 2,
     "metadata": {},
     "output_type": "execute_result"
    }
   ],
   "source": [
    "X, y = mnist['data'], mnist['target']\n",
    "X.shape"
   ]
  },
  {
   "cell_type": "markdown",
   "metadata": {
    "papermill": {
     "duration": 0.026179,
     "end_time": "2021-12-30T05:11:10.129981",
     "exception": false,
     "start_time": "2021-12-30T05:11:10.103802",
     "status": "completed"
    },
    "tags": []
   },
   "source": [
    "As you can see in the shape of our data, X, there are 70,000 example handwritten digits, and each one is made up of 784 pixels (a 28 x 28 box). \n",
    "\n",
    "The value for each pixel, as seen below for the first example, can range from 0 (white) to 255 (black) in grayscale. "
   ]
  },
  {
   "cell_type": "code",
   "execution_count": 3,
   "metadata": {
    "execution": {
     "iopub.execute_input": "2021-12-30T05:11:10.190725Z",
     "iopub.status.busy": "2021-12-30T05:11:10.185672Z",
     "iopub.status.idle": "2021-12-30T05:11:10.199357Z",
     "shell.execute_reply": "2021-12-30T05:11:10.199800Z",
     "shell.execute_reply.started": "2021-12-30T04:34:33.298534Z"
    },
    "papermill": {
     "duration": 0.04392,
     "end_time": "2021-12-30T05:11:10.199904",
     "exception": false,
     "start_time": "2021-12-30T05:11:10.155984",
     "status": "completed"
    },
    "tags": []
   },
   "outputs": [
    {
     "data": {
      "text/plain": [
       "array([[  0.,   0.,   0.,   0.,   0.,   0.,   0.,   0.,   0.,   0.,   0.,\n",
       "          0.,   0.,   0.,   0.,   0.,   0.,   0.,   0.,   0.,   0.,   0.,\n",
       "          0.,   0.,   0.,   0.,   0.,   0.],\n",
       "       [  0.,   0.,   0.,   0.,   0.,   0.,   0.,   0.,   0.,   0.,   0.,\n",
       "          0.,   0.,   0.,   0.,   0.,   0.,   0.,   0.,   0.,   0.,   0.,\n",
       "          0.,   0.,   0.,   0.,   0.,   0.],\n",
       "       [  0.,   0.,   0.,   0.,   0.,   0.,   0.,   0.,   0.,   0.,   0.,\n",
       "          0.,   0.,   0.,   0.,   0.,   0.,   0.,   0.,   0.,   0.,   0.,\n",
       "          0.,   0.,   0.,   0.,   0.,   0.],\n",
       "       [  0.,   0.,   0.,   0.,   0.,   0.,   0.,   0.,   0.,   0.,   0.,\n",
       "          0.,   0.,   0.,   0.,   0.,   0.,   0.,   0.,   0.,   0.,   0.,\n",
       "          0.,   0.,   0.,   0.,   0.,   0.],\n",
       "       [  0.,   0.,   0.,   0.,   0.,   0.,   0.,   0.,   0.,   0.,   0.,\n",
       "          0.,   0.,   0.,   0.,   0.,   0.,   0.,   0.,   0.,   0.,   0.,\n",
       "          0.,   0.,   0.,   0.,   0.,   0.],\n",
       "       [  0.,   0.,   0.,   0.,   0.,   0.,   0.,   0.,   0.,   0.,   0.,\n",
       "          0.,   3.,  18.,  18.,  18., 126., 136., 175.,  26., 166., 255.,\n",
       "        247., 127.,   0.,   0.,   0.,   0.],\n",
       "       [  0.,   0.,   0.,   0.,   0.,   0.,   0.,   0.,  30.,  36.,  94.,\n",
       "        154., 170., 253., 253., 253., 253., 253., 225., 172., 253., 242.,\n",
       "        195.,  64.,   0.,   0.,   0.,   0.],\n",
       "       [  0.,   0.,   0.,   0.,   0.,   0.,   0.,  49., 238., 253., 253.,\n",
       "        253., 253., 253., 253., 253., 253., 251.,  93.,  82.,  82.,  56.,\n",
       "         39.,   0.,   0.,   0.,   0.,   0.],\n",
       "       [  0.,   0.,   0.,   0.,   0.,   0.,   0.,  18., 219., 253., 253.,\n",
       "        253., 253., 253., 198., 182., 247., 241.,   0.,   0.,   0.,   0.,\n",
       "          0.,   0.,   0.,   0.,   0.,   0.],\n",
       "       [  0.,   0.,   0.,   0.,   0.,   0.,   0.,   0.,  80., 156., 107.,\n",
       "        253., 253., 205.,  11.,   0.,  43., 154.,   0.,   0.,   0.,   0.,\n",
       "          0.,   0.,   0.,   0.,   0.,   0.],\n",
       "       [  0.,   0.,   0.,   0.,   0.,   0.,   0.,   0.,   0.,  14.,   1.,\n",
       "        154., 253.,  90.,   0.,   0.,   0.,   0.,   0.,   0.,   0.,   0.,\n",
       "          0.,   0.,   0.,   0.,   0.,   0.],\n",
       "       [  0.,   0.,   0.,   0.,   0.,   0.,   0.,   0.,   0.,   0.,   0.,\n",
       "        139., 253., 190.,   2.,   0.,   0.,   0.,   0.,   0.,   0.,   0.,\n",
       "          0.,   0.,   0.,   0.,   0.,   0.],\n",
       "       [  0.,   0.,   0.,   0.,   0.,   0.,   0.,   0.,   0.,   0.,   0.,\n",
       "         11., 190., 253.,  70.,   0.,   0.,   0.,   0.,   0.,   0.,   0.,\n",
       "          0.,   0.,   0.,   0.,   0.,   0.],\n",
       "       [  0.,   0.,   0.,   0.,   0.,   0.,   0.,   0.,   0.,   0.,   0.,\n",
       "          0.,  35., 241., 225., 160., 108.,   1.,   0.,   0.,   0.,   0.,\n",
       "          0.,   0.,   0.,   0.,   0.,   0.],\n",
       "       [  0.,   0.,   0.,   0.,   0.,   0.,   0.,   0.,   0.,   0.,   0.,\n",
       "          0.,   0.,  81., 240., 253., 253., 119.,  25.,   0.,   0.,   0.,\n",
       "          0.,   0.,   0.,   0.,   0.,   0.],\n",
       "       [  0.,   0.,   0.,   0.,   0.,   0.,   0.,   0.,   0.,   0.,   0.,\n",
       "          0.,   0.,   0.,  45., 186., 253., 253., 150.,  27.,   0.,   0.,\n",
       "          0.,   0.,   0.,   0.,   0.,   0.],\n",
       "       [  0.,   0.,   0.,   0.,   0.,   0.,   0.,   0.,   0.,   0.,   0.,\n",
       "          0.,   0.,   0.,   0.,  16.,  93., 252., 253., 187.,   0.,   0.,\n",
       "          0.,   0.,   0.,   0.,   0.,   0.],\n",
       "       [  0.,   0.,   0.,   0.,   0.,   0.,   0.,   0.,   0.,   0.,   0.,\n",
       "          0.,   0.,   0.,   0.,   0.,   0., 249., 253., 249.,  64.,   0.,\n",
       "          0.,   0.,   0.,   0.,   0.,   0.],\n",
       "       [  0.,   0.,   0.,   0.,   0.,   0.,   0.,   0.,   0.,   0.,   0.,\n",
       "          0.,   0.,   0.,  46., 130., 183., 253., 253., 207.,   2.,   0.,\n",
       "          0.,   0.,   0.,   0.,   0.,   0.],\n",
       "       [  0.,   0.,   0.,   0.,   0.,   0.,   0.,   0.,   0.,   0.,   0.,\n",
       "          0.,  39., 148., 229., 253., 253., 253., 250., 182.,   0.,   0.,\n",
       "          0.,   0.,   0.,   0.,   0.,   0.],\n",
       "       [  0.,   0.,   0.,   0.,   0.,   0.,   0.,   0.,   0.,   0.,  24.,\n",
       "        114., 221., 253., 253., 253., 253., 201.,  78.,   0.,   0.,   0.,\n",
       "          0.,   0.,   0.,   0.,   0.,   0.],\n",
       "       [  0.,   0.,   0.,   0.,   0.,   0.,   0.,   0.,  23.,  66., 213.,\n",
       "        253., 253., 253., 253., 198.,  81.,   2.,   0.,   0.,   0.,   0.,\n",
       "          0.,   0.,   0.,   0.,   0.,   0.],\n",
       "       [  0.,   0.,   0.,   0.,   0.,   0.,  18., 171., 219., 253., 253.,\n",
       "        253., 253., 195.,  80.,   9.,   0.,   0.,   0.,   0.,   0.,   0.,\n",
       "          0.,   0.,   0.,   0.,   0.,   0.],\n",
       "       [  0.,   0.,   0.,   0.,  55., 172., 226., 253., 253., 253., 253.,\n",
       "        244., 133.,  11.,   0.,   0.,   0.,   0.,   0.,   0.,   0.,   0.,\n",
       "          0.,   0.,   0.,   0.,   0.,   0.],\n",
       "       [  0.,   0.,   0.,   0., 136., 253., 253., 253., 212., 135., 132.,\n",
       "         16.,   0.,   0.,   0.,   0.,   0.,   0.,   0.,   0.,   0.,   0.,\n",
       "          0.,   0.,   0.,   0.,   0.,   0.],\n",
       "       [  0.,   0.,   0.,   0.,   0.,   0.,   0.,   0.,   0.,   0.,   0.,\n",
       "          0.,   0.,   0.,   0.,   0.,   0.,   0.,   0.,   0.,   0.,   0.,\n",
       "          0.,   0.,   0.,   0.,   0.,   0.],\n",
       "       [  0.,   0.,   0.,   0.,   0.,   0.,   0.,   0.,   0.,   0.,   0.,\n",
       "          0.,   0.,   0.,   0.,   0.,   0.,   0.,   0.,   0.,   0.,   0.,\n",
       "          0.,   0.,   0.,   0.,   0.,   0.],\n",
       "       [  0.,   0.,   0.,   0.,   0.,   0.,   0.,   0.,   0.,   0.,   0.,\n",
       "          0.,   0.,   0.,   0.,   0.,   0.,   0.,   0.,   0.,   0.,   0.,\n",
       "          0.,   0.,   0.,   0.,   0.,   0.]])"
      ]
     },
     "execution_count": 3,
     "metadata": {},
     "output_type": "execute_result"
    }
   ],
   "source": [
    "X[0].reshape(28,28)"
   ]
  },
  {
   "cell_type": "markdown",
   "metadata": {
    "papermill": {
     "duration": 0.027295,
     "end_time": "2021-12-30T05:11:10.253899",
     "exception": false,
     "start_time": "2021-12-30T05:11:10.226604",
     "status": "completed"
    },
    "tags": []
   },
   "source": [
    "To prepare our data, I'm starting by adding a bias term of 1 to each digit. This bias term is similar to a y-intercept (b) in the equation for a line $y = mx + b$. It allows for predictions to be adjusted without regard to variables.\n",
    "\n",
    "To keep the calculations from becoming too large and not being able to compute, I divide all X values by 255 to start, as 255 is the maximum possible value. This is called normalizing."
   ]
  },
  {
   "cell_type": "code",
   "execution_count": 4,
   "metadata": {
    "execution": {
     "iopub.execute_input": "2021-12-30T05:11:10.312799Z",
     "iopub.status.busy": "2021-12-30T05:11:10.311631Z",
     "iopub.status.idle": "2021-12-30T05:11:10.602823Z",
     "shell.execute_reply": "2021-12-30T05:11:10.602117Z",
     "shell.execute_reply.started": "2021-12-30T04:34:33.327376Z"
    },
    "papermill": {
     "duration": 0.32186,
     "end_time": "2021-12-30T05:11:10.602962",
     "exception": false,
     "start_time": "2021-12-30T05:11:10.281102",
     "status": "completed"
    },
    "tags": []
   },
   "outputs": [],
   "source": [
    "#adding a bias term to each digit\n",
    "X_with_bias = np.c_[np.ones([len(X), 1]), X]\n",
    "#normalizing\n",
    "X_with_bias = X_with_bias/255"
   ]
  },
  {
   "cell_type": "code",
   "execution_count": 5,
   "metadata": {
    "execution": {
     "iopub.execute_input": "2021-12-30T05:11:10.661806Z",
     "iopub.status.busy": "2021-12-30T05:11:10.661252Z",
     "iopub.status.idle": "2021-12-30T05:11:10.667140Z",
     "shell.execute_reply": "2021-12-30T05:11:10.666721Z",
     "shell.execute_reply.started": "2021-12-30T04:34:33.710371Z"
    },
    "papermill": {
     "duration": 0.037343,
     "end_time": "2021-12-30T05:11:10.667235",
     "exception": false,
     "start_time": "2021-12-30T05:11:10.629892",
     "status": "completed"
    },
    "tags": []
   },
   "outputs": [
    {
     "data": {
      "text/plain": [
       "70000"
      ]
     },
     "execution_count": 5,
     "metadata": {},
     "output_type": "execute_result"
    }
   ],
   "source": [
    "len(X)"
   ]
  },
  {
   "cell_type": "markdown",
   "metadata": {
    "papermill": {
     "duration": 0.026613,
     "end_time": "2021-12-30T05:11:10.720825",
     "exception": false,
     "start_time": "2021-12-30T05:11:10.694212",
     "status": "completed"
    },
    "tags": []
   },
   "source": [
    "As the labels come in the form of strings, here I create a function to convert them to numbers based on their index in a list of unique values."
   ]
  },
  {
   "cell_type": "code",
   "execution_count": 6,
   "metadata": {
    "execution": {
     "iopub.execute_input": "2021-12-30T05:11:10.783044Z",
     "iopub.status.busy": "2021-12-30T05:11:10.782304Z",
     "iopub.status.idle": "2021-12-30T05:11:10.784921Z",
     "shell.execute_reply": "2021-12-30T05:11:10.785315Z",
     "shell.execute_reply.started": "2021-12-30T04:34:33.723976Z"
    },
    "papermill": {
     "duration": 0.037185,
     "end_time": "2021-12-30T05:11:10.785435",
     "exception": false,
     "start_time": "2021-12-30T05:11:10.748250",
     "status": "completed"
    },
    "tags": []
   },
   "outputs": [],
   "source": [
    "def categorical_to_num(y):\n",
    "    nums = np.zeros(y.size)\n",
    "    for i in range(len(np.unique(y))):\n",
    "        nums[np.where(y==np.unique(y)[i])] = i\n",
    "    return nums.astype(int)"
   ]
  },
  {
   "cell_type": "markdown",
   "metadata": {
    "papermill": {
     "duration": 0.028854,
     "end_time": "2021-12-30T05:11:10.842970",
     "exception": false,
     "start_time": "2021-12-30T05:11:10.814116",
     "status": "completed"
    },
    "tags": []
   },
   "source": [
    "Here we create a function to convert the labels in their number form to a one-hot encoding (puts a one in the column of a row the same length as the number of possible options). This will become needed later when calculating loss and gradients."
   ]
  },
  {
   "cell_type": "code",
   "execution_count": 7,
   "metadata": {
    "execution": {
     "iopub.execute_input": "2021-12-30T05:11:10.905547Z",
     "iopub.status.busy": "2021-12-30T05:11:10.905032Z",
     "iopub.status.idle": "2021-12-30T05:11:10.908962Z",
     "shell.execute_reply": "2021-12-30T05:11:10.908336Z",
     "shell.execute_reply.started": "2021-12-30T04:34:33.734734Z"
    },
    "papermill": {
     "duration": 0.037167,
     "end_time": "2021-12-30T05:11:10.909064",
     "exception": false,
     "start_time": "2021-12-30T05:11:10.871897",
     "status": "completed"
    },
    "tags": []
   },
   "outputs": [],
   "source": [
    "def to_one_hot(y):\n",
    "    shape = (y.size, int(np.max(y) + 1))\n",
    "    rows = np.arange(y.size)\n",
    "    one_hot = np.zeros(shape)\n",
    "    one_hot[rows, y] = 1.\n",
    "    return one_hot"
   ]
  },
  {
   "cell_type": "markdown",
   "metadata": {
    "papermill": {
     "duration": 0.02868,
     "end_time": "2021-12-30T05:11:10.966316",
     "exception": false,
     "start_time": "2021-12-30T05:11:10.937636",
     "status": "completed"
    },
    "tags": []
   },
   "source": [
    "We will split up the 70,000 example hand-written digits below into an 80%/20% split between training and test data."
   ]
  },
  {
   "cell_type": "code",
   "execution_count": 8,
   "metadata": {
    "execution": {
     "iopub.execute_input": "2021-12-30T05:11:11.032081Z",
     "iopub.status.busy": "2021-12-30T05:11:11.031361Z",
     "iopub.status.idle": "2021-12-30T05:11:11.651416Z",
     "shell.execute_reply": "2021-12-30T05:11:11.650218Z",
     "shell.execute_reply.started": "2021-12-30T04:34:33.746686Z"
    },
    "papermill": {
     "duration": 0.656403,
     "end_time": "2021-12-30T05:11:11.651556",
     "exception": false,
     "start_time": "2021-12-30T05:11:10.995153",
     "status": "completed"
    },
    "tags": []
   },
   "outputs": [
    {
     "name": "stdout",
     "output_type": "stream",
     "text": [
      "X_train size: (56000, 785) \n",
      " X_val size: (14000, 785) \n",
      " y_train size: (56000,) \n",
      " y_val size: (14000,) \n",
      "\n"
     ]
    }
   ],
   "source": [
    "X_train, X_val, y_train, y_val = train_test_split(X_with_bias, y, train_size = 0.8, random_state = 42)\n",
    "print(\"X_train size:\", X_train.shape, '\\n',\n",
    "    \"X_val size:\", X_val.shape, '\\n',\n",
    "    \"y_train size:\", y_train.shape, '\\n',\n",
    "    \"y_val size:\", y_val.shape, '\\n')"
   ]
  },
  {
   "cell_type": "code",
   "execution_count": 9,
   "metadata": {
    "execution": {
     "iopub.execute_input": "2021-12-30T05:11:11.755159Z",
     "iopub.status.busy": "2021-12-30T05:11:11.732795Z",
     "iopub.status.idle": "2021-12-30T05:11:11.844508Z",
     "shell.execute_reply": "2021-12-30T05:11:11.844101Z",
     "shell.execute_reply.started": "2021-12-30T04:34:34.546098Z"
    },
    "papermill": {
     "duration": 0.164657,
     "end_time": "2021-12-30T05:11:11.844660",
     "exception": false,
     "start_time": "2021-12-30T05:11:11.680003",
     "status": "completed"
    },
    "tags": []
   },
   "outputs": [
    {
     "data": {
      "text/plain": [
       "array([[0., 0., 0., ..., 0., 1., 0.],\n",
       "       [0., 0., 0., ..., 0., 0., 0.],\n",
       "       [0., 0., 0., ..., 0., 1., 0.],\n",
       "       ...,\n",
       "       [0., 0., 1., ..., 0., 0., 0.],\n",
       "       [0., 0., 0., ..., 1., 0., 0.],\n",
       "       [0., 1., 0., ..., 0., 0., 0.]])"
      ]
     },
     "execution_count": 9,
     "metadata": {},
     "output_type": "execute_result"
    }
   ],
   "source": [
    "#converting y validation set to one hot\n",
    "nums = categorical_to_num(y_val)\n",
    "y_val_one_hot = to_one_hot(nums)\n",
    "y_val_one_hot"
   ]
  },
  {
   "cell_type": "code",
   "execution_count": 10,
   "metadata": {
    "execution": {
     "iopub.execute_input": "2021-12-30T05:11:11.905667Z",
     "iopub.status.busy": "2021-12-30T05:11:11.904953Z",
     "iopub.status.idle": "2021-12-30T05:11:12.504533Z",
     "shell.execute_reply": "2021-12-30T05:11:12.504077Z",
     "shell.execute_reply.started": "2021-12-30T04:34:34.682513Z"
    },
    "papermill": {
     "duration": 0.631543,
     "end_time": "2021-12-30T05:11:12.504674",
     "exception": false,
     "start_time": "2021-12-30T05:11:11.873131",
     "status": "completed"
    },
    "tags": []
   },
   "outputs": [
    {
     "data": {
      "text/plain": [
       "array([[0., 0., 0., ..., 0., 0., 0.],\n",
       "       [0., 0., 0., ..., 0., 0., 0.],\n",
       "       [0., 0., 0., ..., 0., 1., 0.],\n",
       "       ...,\n",
       "       [0., 1., 0., ..., 0., 0., 0.],\n",
       "       [1., 0., 0., ..., 0., 0., 0.],\n",
       "       [1., 0., 0., ..., 0., 0., 0.]])"
      ]
     },
     "execution_count": 10,
     "metadata": {},
     "output_type": "execute_result"
    }
   ],
   "source": [
    "#converting y training set to one hot\n",
    "nums = categorical_to_num(y_train)\n",
    "y_train_one_hot = to_one_hot(nums)\n",
    "y_train_one_hot"
   ]
  },
  {
   "cell_type": "markdown",
   "metadata": {
    "papermill": {
     "duration": 0.028359,
     "end_time": "2021-12-30T05:11:12.561999",
     "exception": false,
     "start_time": "2021-12-30T05:11:12.533640",
     "status": "completed"
    },
    "tags": []
   },
   "source": [
    "Here are the equations that we will need for building out the softmax regressor:"
   ]
  },
  {
   "cell_type": "markdown",
   "metadata": {
    "papermill": {
     "duration": 0.02802,
     "end_time": "2021-12-30T05:11:12.618724",
     "exception": false,
     "start_time": "2021-12-30T05:11:12.590704",
     "status": "completed"
    },
    "tags": []
   },
   "source": [
    "# Softmax Score"
   ]
  },
  {
   "cell_type": "markdown",
   "metadata": {
    "papermill": {
     "duration": 0.028092,
     "end_time": "2021-12-30T05:11:12.674891",
     "exception": false,
     "start_time": "2021-12-30T05:11:12.646799",
     "status": "completed"
    },
    "tags": []
   },
   "source": [
    "This equation is used for scoring probabilities. That means combining our prior or initial thought of the weight or importance that each pixel of a handwritten digit make it part of a certain class, with a new handwritten digit (\"based on what I think up front how much do I think that this new digit is a 4?\").\n",
    "\n",
    "$s_k$ is the score (logits) for class $k$. \n",
    "\n",
    "$\\mathbf{x}$ is the batch of handwritten digits you are supplying the model.\n",
    "\n",
    "$\\mathbf{\\theta}$ (theta) is the weight for the class ${k}$ that we are working with.\n",
    "\n",
    "The $^T$ next to $\\mathbf{\\theta}$ shows that we are going to transpose it before taking the dot product of it and our handwritten digits $\\mathbf{x}$.\n",
    "\n",
    "\n",
    "\n",
    "$$s_k(\\mathbf{x}) = (\\mathbf{\\theta}^{(k)})^T\\mathbf{x}$$\n",
    "\n",
    "As this is the dot product of $\\mathbf{\\theta}$ and $\\mathbf{x}$, we have to make sure that our dimensions match (the last dimension of the first matrix is the same as the first dimension of the second matrix). $\\mathbf{x}$ will be in the shape of (m, n_inputs) and $\\mathbf{\\theta}$ will be in the shape of (n_inputs, n_outputs).\n",
    "\n",
    "Notice how we implement it:"
   ]
  },
  {
   "cell_type": "code",
   "execution_count": 11,
   "metadata": {
    "execution": {
     "iopub.execute_input": "2021-12-30T05:11:12.735395Z",
     "iopub.status.busy": "2021-12-30T05:11:12.734498Z",
     "iopub.status.idle": "2021-12-30T05:11:12.737208Z",
     "shell.execute_reply": "2021-12-30T05:11:12.736776Z",
     "shell.execute_reply.started": "2021-12-30T04:34:35.259196Z"
    },
    "papermill": {
     "duration": 0.034548,
     "end_time": "2021-12-30T05:11:12.737292",
     "exception": false,
     "start_time": "2021-12-30T05:11:12.702744",
     "status": "completed"
    },
    "tags": []
   },
   "outputs": [],
   "source": [
    "def SoftmaxScore(x, theta):\n",
    "    score = x@theta\n",
    "    return score"
   ]
  },
  {
   "cell_type": "markdown",
   "metadata": {
    "papermill": {
     "duration": 0.030518,
     "end_time": "2021-12-30T05:11:12.796878",
     "exception": false,
     "start_time": "2021-12-30T05:11:12.766360",
     "status": "completed"
    },
    "tags": []
   },
   "source": [
    "# Softmax Function"
   ]
  },
  {
   "cell_type": "code",
   "execution_count": 12,
   "metadata": {
    "_kg_hide-input": true,
    "execution": {
     "iopub.execute_input": "2021-12-30T05:11:12.862553Z",
     "iopub.status.busy": "2021-12-30T05:11:12.862029Z",
     "iopub.status.idle": "2021-12-30T05:11:13.535259Z",
     "shell.execute_reply": "2021-12-30T05:11:13.535706Z",
     "shell.execute_reply.started": "2021-12-30T04:34:35.268604Z"
    },
    "papermill": {
     "duration": 0.708687,
     "end_time": "2021-12-30T05:11:13.535835",
     "exception": false,
     "start_time": "2021-12-30T05:11:12.827148",
     "status": "completed"
    },
    "tags": []
   },
   "outputs": [
    {
     "data": {
      "application/vnd.plotly.v1+json": {
       "config": {
        "plotlyServerURL": "https://plot.ly"
       },
       "data": [
        {
         "hovertemplate": "X=%{x}<br>Sigmoid(X)=%{y}<extra></extra>",
         "legendgroup": "",
         "line": {
          "color": "#636efa",
          "dash": "solid"
         },
         "mode": "lines",
         "name": "",
         "orientation": "v",
         "showlegend": false,
         "type": "scatter",
         "x": [
          -10.0,
          -9.797979797979798,
          -9.595959595959595,
          -9.393939393939394,
          -9.191919191919192,
          -8.98989898989899,
          -8.787878787878787,
          -8.585858585858587,
          -8.383838383838384,
          -8.181818181818182,
          -7.979797979797979,
          -7.777777777777778,
          -7.575757575757576,
          -7.373737373737374,
          -7.171717171717171,
          -6.96969696969697,
          -6.767676767676768,
          -6.565656565656566,
          -6.363636363636363,
          -6.161616161616162,
          -5.959595959595959,
          -5.757575757575758,
          -5.555555555555555,
          -5.353535353535354,
          -5.151515151515151,
          -4.94949494949495,
          -4.747474747474747,
          -4.545454545454546,
          -4.343434343434343,
          -4.141414141414142,
          -3.9393939393939394,
          -3.737373737373738,
          -3.5353535353535355,
          -3.333333333333333,
          -3.1313131313131315,
          -2.929292929292929,
          -2.7272727272727275,
          -2.525252525252525,
          -2.3232323232323235,
          -2.121212121212121,
          -1.9191919191919187,
          -1.717171717171718,
          -1.5151515151515156,
          -1.3131313131313131,
          -1.1111111111111107,
          -0.9090909090909101,
          -0.7070707070707076,
          -0.5050505050505052,
          -0.30303030303030276,
          -0.10101010101010033,
          0.10101010101010033,
          0.30303030303030276,
          0.5050505050505052,
          0.7070707070707076,
          0.9090909090909083,
          1.1111111111111107,
          1.3131313131313131,
          1.5151515151515156,
          1.7171717171717162,
          1.9191919191919187,
          2.121212121212121,
          2.3232323232323235,
          2.525252525252524,
          2.7272727272727266,
          2.929292929292929,
          3.1313131313131315,
          3.333333333333334,
          3.5353535353535346,
          3.737373737373737,
          3.9393939393939394,
          4.141414141414142,
          4.3434343434343425,
          4.545454545454545,
          4.747474747474747,
          4.94949494949495,
          5.1515151515151505,
          5.353535353535353,
          5.555555555555555,
          5.757575757575758,
          5.9595959595959584,
          6.161616161616163,
          6.363636363636363,
          6.565656565656564,
          6.767676767676768,
          6.969696969696969,
          7.171717171717173,
          7.373737373737374,
          7.575757575757574,
          7.777777777777779,
          7.979797979797979,
          8.18181818181818,
          8.383838383838384,
          8.585858585858585,
          8.787878787878789,
          8.98989898989899,
          9.19191919191919,
          9.393939393939394,
          9.595959595959595,
          9.7979797979798,
          10.0
         ],
         "xaxis": "x",
         "y": [
          4.5397868702434395e-05,
          5.556064893935847e-05,
          6.7998317442358e-05,
          8.322001972209245e-05,
          0.00010184881542721271,
          0.00012464714594414533,
          0.00015254798624649647,
          0.00018669294496130814,
          0.00022847885532128418,
          0.0002796147386491923,
          0.00034219143371662803,
          0.0004187666844443735,
          0.0005124690821944584,
          0.0006271249872756847,
          0.000767413429918266,
          0.0009390550390618305,
          0.001149042294880872,
          0.0014059198755086322,
          0.0017201255952192596,
          0.0021044044291184333,
          0.0025743103931375314,
          0.0031488135776798513,
          0.003851032355930255,
          0.004709113572114011,
          0.0057572861219081835,
          0.007037115364564376,
          0.008598986610189428,
          0.010503844513285416,
          0.012825210092764685,
          0.015651486142818367,
          0.019088541989923387,
          0.0232625358308855,
          0.0283228820443032,
          0.03444519566621118,
          0.04183394000551971,
          0.05072436056205437,
          0.06138310740349217,
          0.07410673632504733,
          0.08921706025119844,
          0.10705214621417715,
          0.12795170492445268,
          0.15223582314389053,
          0.18017659335766972,
          0.21196333386923713,
          0.2476638011390717,
          0.28718590138250244,
          0.33024642963181144,
          0.37635451749670706,
          0.42481686806284763,
          0.4747689239079115,
          0.5252310760920885,
          0.5751831319371523,
          0.623645482503293,
          0.6697535703681886,
          0.7128140986174972,
          0.7523361988609284,
          0.7880366661307628,
          0.8198234066423302,
          0.8477641768561092,
          0.8720482950755473,
          0.8929478537858229,
          0.9107829397488015,
          0.9258932636749527,
          0.9386168925965077,
          0.9492756394379457,
          0.9581660599944802,
          0.9655548043337889,
          0.9716771179556968,
          0.9767374641691144,
          0.9809114580100765,
          0.9843485138571816,
          0.9871747899072354,
          0.9894961554867145,
          0.9914010133898106,
          0.9929628846354357,
          0.9942427138780918,
          0.995290886427886,
          0.9961489676440697,
          0.9968511864223202,
          0.9974256896068625,
          0.9978955955708816,
          0.9982798744047808,
          0.9985940801244912,
          0.9988509577051191,
          0.9990609449609381,
          0.9992325865700818,
          0.9993728750127243,
          0.9994875309178055,
          0.9995812333155556,
          0.9996578085662833,
          0.9997203852613508,
          0.9997715211446788,
          0.9998133070550387,
          0.9998474520137535,
          0.9998753528540559,
          0.9998981511845727,
          0.999916779980278,
          0.9999320016825577,
          0.9999444393510606,
          0.9999546021312976
         ],
         "yaxis": "y"
        }
       ],
       "layout": {
        "legend": {
         "tracegroupgap": 0
        },
        "template": {
         "data": {
          "bar": [
           {
            "error_x": {
             "color": "#2a3f5f"
            },
            "error_y": {
             "color": "#2a3f5f"
            },
            "marker": {
             "line": {
              "color": "#E5ECF6",
              "width": 0.5
             }
            },
            "type": "bar"
           }
          ],
          "barpolar": [
           {
            "marker": {
             "line": {
              "color": "#E5ECF6",
              "width": 0.5
             }
            },
            "type": "barpolar"
           }
          ],
          "carpet": [
           {
            "aaxis": {
             "endlinecolor": "#2a3f5f",
             "gridcolor": "white",
             "linecolor": "white",
             "minorgridcolor": "white",
             "startlinecolor": "#2a3f5f"
            },
            "baxis": {
             "endlinecolor": "#2a3f5f",
             "gridcolor": "white",
             "linecolor": "white",
             "minorgridcolor": "white",
             "startlinecolor": "#2a3f5f"
            },
            "type": "carpet"
           }
          ],
          "choropleth": [
           {
            "colorbar": {
             "outlinewidth": 0,
             "ticks": ""
            },
            "type": "choropleth"
           }
          ],
          "contour": [
           {
            "colorbar": {
             "outlinewidth": 0,
             "ticks": ""
            },
            "colorscale": [
             [
              0.0,
              "#0d0887"
             ],
             [
              0.1111111111111111,
              "#46039f"
             ],
             [
              0.2222222222222222,
              "#7201a8"
             ],
             [
              0.3333333333333333,
              "#9c179e"
             ],
             [
              0.4444444444444444,
              "#bd3786"
             ],
             [
              0.5555555555555556,
              "#d8576b"
             ],
             [
              0.6666666666666666,
              "#ed7953"
             ],
             [
              0.7777777777777778,
              "#fb9f3a"
             ],
             [
              0.8888888888888888,
              "#fdca26"
             ],
             [
              1.0,
              "#f0f921"
             ]
            ],
            "type": "contour"
           }
          ],
          "contourcarpet": [
           {
            "colorbar": {
             "outlinewidth": 0,
             "ticks": ""
            },
            "type": "contourcarpet"
           }
          ],
          "heatmap": [
           {
            "colorbar": {
             "outlinewidth": 0,
             "ticks": ""
            },
            "colorscale": [
             [
              0.0,
              "#0d0887"
             ],
             [
              0.1111111111111111,
              "#46039f"
             ],
             [
              0.2222222222222222,
              "#7201a8"
             ],
             [
              0.3333333333333333,
              "#9c179e"
             ],
             [
              0.4444444444444444,
              "#bd3786"
             ],
             [
              0.5555555555555556,
              "#d8576b"
             ],
             [
              0.6666666666666666,
              "#ed7953"
             ],
             [
              0.7777777777777778,
              "#fb9f3a"
             ],
             [
              0.8888888888888888,
              "#fdca26"
             ],
             [
              1.0,
              "#f0f921"
             ]
            ],
            "type": "heatmap"
           }
          ],
          "heatmapgl": [
           {
            "colorbar": {
             "outlinewidth": 0,
             "ticks": ""
            },
            "colorscale": [
             [
              0.0,
              "#0d0887"
             ],
             [
              0.1111111111111111,
              "#46039f"
             ],
             [
              0.2222222222222222,
              "#7201a8"
             ],
             [
              0.3333333333333333,
              "#9c179e"
             ],
             [
              0.4444444444444444,
              "#bd3786"
             ],
             [
              0.5555555555555556,
              "#d8576b"
             ],
             [
              0.6666666666666666,
              "#ed7953"
             ],
             [
              0.7777777777777778,
              "#fb9f3a"
             ],
             [
              0.8888888888888888,
              "#fdca26"
             ],
             [
              1.0,
              "#f0f921"
             ]
            ],
            "type": "heatmapgl"
           }
          ],
          "histogram": [
           {
            "marker": {
             "colorbar": {
              "outlinewidth": 0,
              "ticks": ""
             }
            },
            "type": "histogram"
           }
          ],
          "histogram2d": [
           {
            "colorbar": {
             "outlinewidth": 0,
             "ticks": ""
            },
            "colorscale": [
             [
              0.0,
              "#0d0887"
             ],
             [
              0.1111111111111111,
              "#46039f"
             ],
             [
              0.2222222222222222,
              "#7201a8"
             ],
             [
              0.3333333333333333,
              "#9c179e"
             ],
             [
              0.4444444444444444,
              "#bd3786"
             ],
             [
              0.5555555555555556,
              "#d8576b"
             ],
             [
              0.6666666666666666,
              "#ed7953"
             ],
             [
              0.7777777777777778,
              "#fb9f3a"
             ],
             [
              0.8888888888888888,
              "#fdca26"
             ],
             [
              1.0,
              "#f0f921"
             ]
            ],
            "type": "histogram2d"
           }
          ],
          "histogram2dcontour": [
           {
            "colorbar": {
             "outlinewidth": 0,
             "ticks": ""
            },
            "colorscale": [
             [
              0.0,
              "#0d0887"
             ],
             [
              0.1111111111111111,
              "#46039f"
             ],
             [
              0.2222222222222222,
              "#7201a8"
             ],
             [
              0.3333333333333333,
              "#9c179e"
             ],
             [
              0.4444444444444444,
              "#bd3786"
             ],
             [
              0.5555555555555556,
              "#d8576b"
             ],
             [
              0.6666666666666666,
              "#ed7953"
             ],
             [
              0.7777777777777778,
              "#fb9f3a"
             ],
             [
              0.8888888888888888,
              "#fdca26"
             ],
             [
              1.0,
              "#f0f921"
             ]
            ],
            "type": "histogram2dcontour"
           }
          ],
          "mesh3d": [
           {
            "colorbar": {
             "outlinewidth": 0,
             "ticks": ""
            },
            "type": "mesh3d"
           }
          ],
          "parcoords": [
           {
            "line": {
             "colorbar": {
              "outlinewidth": 0,
              "ticks": ""
             }
            },
            "type": "parcoords"
           }
          ],
          "pie": [
           {
            "automargin": true,
            "type": "pie"
           }
          ],
          "scatter": [
           {
            "marker": {
             "colorbar": {
              "outlinewidth": 0,
              "ticks": ""
             }
            },
            "type": "scatter"
           }
          ],
          "scatter3d": [
           {
            "line": {
             "colorbar": {
              "outlinewidth": 0,
              "ticks": ""
             }
            },
            "marker": {
             "colorbar": {
              "outlinewidth": 0,
              "ticks": ""
             }
            },
            "type": "scatter3d"
           }
          ],
          "scattercarpet": [
           {
            "marker": {
             "colorbar": {
              "outlinewidth": 0,
              "ticks": ""
             }
            },
            "type": "scattercarpet"
           }
          ],
          "scattergeo": [
           {
            "marker": {
             "colorbar": {
              "outlinewidth": 0,
              "ticks": ""
             }
            },
            "type": "scattergeo"
           }
          ],
          "scattergl": [
           {
            "marker": {
             "colorbar": {
              "outlinewidth": 0,
              "ticks": ""
             }
            },
            "type": "scattergl"
           }
          ],
          "scattermapbox": [
           {
            "marker": {
             "colorbar": {
              "outlinewidth": 0,
              "ticks": ""
             }
            },
            "type": "scattermapbox"
           }
          ],
          "scatterpolar": [
           {
            "marker": {
             "colorbar": {
              "outlinewidth": 0,
              "ticks": ""
             }
            },
            "type": "scatterpolar"
           }
          ],
          "scatterpolargl": [
           {
            "marker": {
             "colorbar": {
              "outlinewidth": 0,
              "ticks": ""
             }
            },
            "type": "scatterpolargl"
           }
          ],
          "scatterternary": [
           {
            "marker": {
             "colorbar": {
              "outlinewidth": 0,
              "ticks": ""
             }
            },
            "type": "scatterternary"
           }
          ],
          "surface": [
           {
            "colorbar": {
             "outlinewidth": 0,
             "ticks": ""
            },
            "colorscale": [
             [
              0.0,
              "#0d0887"
             ],
             [
              0.1111111111111111,
              "#46039f"
             ],
             [
              0.2222222222222222,
              "#7201a8"
             ],
             [
              0.3333333333333333,
              "#9c179e"
             ],
             [
              0.4444444444444444,
              "#bd3786"
             ],
             [
              0.5555555555555556,
              "#d8576b"
             ],
             [
              0.6666666666666666,
              "#ed7953"
             ],
             [
              0.7777777777777778,
              "#fb9f3a"
             ],
             [
              0.8888888888888888,
              "#fdca26"
             ],
             [
              1.0,
              "#f0f921"
             ]
            ],
            "type": "surface"
           }
          ],
          "table": [
           {
            "cells": {
             "fill": {
              "color": "#EBF0F8"
             },
             "line": {
              "color": "white"
             }
            },
            "header": {
             "fill": {
              "color": "#C8D4E3"
             },
             "line": {
              "color": "white"
             }
            },
            "type": "table"
           }
          ]
         },
         "layout": {
          "annotationdefaults": {
           "arrowcolor": "#2a3f5f",
           "arrowhead": 0,
           "arrowwidth": 1
          },
          "autotypenumbers": "strict",
          "coloraxis": {
           "colorbar": {
            "outlinewidth": 0,
            "ticks": ""
           }
          },
          "colorscale": {
           "diverging": [
            [
             0,
             "#8e0152"
            ],
            [
             0.1,
             "#c51b7d"
            ],
            [
             0.2,
             "#de77ae"
            ],
            [
             0.3,
             "#f1b6da"
            ],
            [
             0.4,
             "#fde0ef"
            ],
            [
             0.5,
             "#f7f7f7"
            ],
            [
             0.6,
             "#e6f5d0"
            ],
            [
             0.7,
             "#b8e186"
            ],
            [
             0.8,
             "#7fbc41"
            ],
            [
             0.9,
             "#4d9221"
            ],
            [
             1,
             "#276419"
            ]
           ],
           "sequential": [
            [
             0.0,
             "#0d0887"
            ],
            [
             0.1111111111111111,
             "#46039f"
            ],
            [
             0.2222222222222222,
             "#7201a8"
            ],
            [
             0.3333333333333333,
             "#9c179e"
            ],
            [
             0.4444444444444444,
             "#bd3786"
            ],
            [
             0.5555555555555556,
             "#d8576b"
            ],
            [
             0.6666666666666666,
             "#ed7953"
            ],
            [
             0.7777777777777778,
             "#fb9f3a"
            ],
            [
             0.8888888888888888,
             "#fdca26"
            ],
            [
             1.0,
             "#f0f921"
            ]
           ],
           "sequentialminus": [
            [
             0.0,
             "#0d0887"
            ],
            [
             0.1111111111111111,
             "#46039f"
            ],
            [
             0.2222222222222222,
             "#7201a8"
            ],
            [
             0.3333333333333333,
             "#9c179e"
            ],
            [
             0.4444444444444444,
             "#bd3786"
            ],
            [
             0.5555555555555556,
             "#d8576b"
            ],
            [
             0.6666666666666666,
             "#ed7953"
            ],
            [
             0.7777777777777778,
             "#fb9f3a"
            ],
            [
             0.8888888888888888,
             "#fdca26"
            ],
            [
             1.0,
             "#f0f921"
            ]
           ]
          },
          "colorway": [
           "#636efa",
           "#EF553B",
           "#00cc96",
           "#ab63fa",
           "#FFA15A",
           "#19d3f3",
           "#FF6692",
           "#B6E880",
           "#FF97FF",
           "#FECB52"
          ],
          "font": {
           "color": "#2a3f5f"
          },
          "geo": {
           "bgcolor": "white",
           "lakecolor": "white",
           "landcolor": "#E5ECF6",
           "showlakes": true,
           "showland": true,
           "subunitcolor": "white"
          },
          "hoverlabel": {
           "align": "left"
          },
          "hovermode": "closest",
          "mapbox": {
           "style": "light"
          },
          "paper_bgcolor": "white",
          "plot_bgcolor": "#E5ECF6",
          "polar": {
           "angularaxis": {
            "gridcolor": "white",
            "linecolor": "white",
            "ticks": ""
           },
           "bgcolor": "#E5ECF6",
           "radialaxis": {
            "gridcolor": "white",
            "linecolor": "white",
            "ticks": ""
           }
          },
          "scene": {
           "xaxis": {
            "backgroundcolor": "#E5ECF6",
            "gridcolor": "white",
            "gridwidth": 2,
            "linecolor": "white",
            "showbackground": true,
            "ticks": "",
            "zerolinecolor": "white"
           },
           "yaxis": {
            "backgroundcolor": "#E5ECF6",
            "gridcolor": "white",
            "gridwidth": 2,
            "linecolor": "white",
            "showbackground": true,
            "ticks": "",
            "zerolinecolor": "white"
           },
           "zaxis": {
            "backgroundcolor": "#E5ECF6",
            "gridcolor": "white",
            "gridwidth": 2,
            "linecolor": "white",
            "showbackground": true,
            "ticks": "",
            "zerolinecolor": "white"
           }
          },
          "shapedefaults": {
           "line": {
            "color": "#2a3f5f"
           }
          },
          "ternary": {
           "aaxis": {
            "gridcolor": "white",
            "linecolor": "white",
            "ticks": ""
           },
           "baxis": {
            "gridcolor": "white",
            "linecolor": "white",
            "ticks": ""
           },
           "bgcolor": "#E5ECF6",
           "caxis": {
            "gridcolor": "white",
            "linecolor": "white",
            "ticks": ""
           }
          },
          "title": {
           "x": 0.05
          },
          "xaxis": {
           "automargin": true,
           "gridcolor": "white",
           "linecolor": "white",
           "ticks": "",
           "title": {
            "standoff": 15
           },
           "zerolinecolor": "white",
           "zerolinewidth": 2
          },
          "yaxis": {
           "automargin": true,
           "gridcolor": "white",
           "linecolor": "white",
           "ticks": "",
           "title": {
            "standoff": 15
           },
           "zerolinecolor": "white",
           "zerolinewidth": 2
          }
         }
        },
        "title": {
         "text": "Sigmoid Function"
        },
        "xaxis": {
         "anchor": "y",
         "domain": [
          0.0,
          1.0
         ],
         "title": {
          "text": "X"
         }
        },
        "yaxis": {
         "anchor": "x",
         "domain": [
          0.0,
          1.0
         ],
         "title": {
          "text": "Sigmoid(X)"
         }
        }
       }
      },
      "text/html": [
       "<div>                            <div id=\"9ed5f52c-d683-4b68-959b-3f950d0cb821\" class=\"plotly-graph-div\" style=\"height:525px; width:100%;\"></div>            <script type=\"text/javascript\">                require([\"plotly\"], function(Plotly) {                    window.PLOTLYENV=window.PLOTLYENV || {};                                    if (document.getElementById(\"9ed5f52c-d683-4b68-959b-3f950d0cb821\")) {                    Plotly.newPlot(                        \"9ed5f52c-d683-4b68-959b-3f950d0cb821\",                        [{\"hovertemplate\": \"X=%{x}<br>Sigmoid(X)=%{y}<extra></extra>\", \"legendgroup\": \"\", \"line\": {\"color\": \"#636efa\", \"dash\": \"solid\"}, \"mode\": \"lines\", \"name\": \"\", \"orientation\": \"v\", \"showlegend\": false, \"type\": \"scatter\", \"x\": [-10.0, -9.797979797979798, -9.595959595959595, -9.393939393939394, -9.191919191919192, -8.98989898989899, -8.787878787878787, -8.585858585858587, -8.383838383838384, -8.181818181818182, -7.979797979797979, -7.777777777777778, -7.575757575757576, -7.373737373737374, -7.171717171717171, -6.96969696969697, -6.767676767676768, -6.565656565656566, -6.363636363636363, -6.161616161616162, -5.959595959595959, -5.757575757575758, -5.555555555555555, -5.353535353535354, -5.151515151515151, -4.94949494949495, -4.747474747474747, -4.545454545454546, -4.343434343434343, -4.141414141414142, -3.9393939393939394, -3.737373737373738, -3.5353535353535355, -3.333333333333333, -3.1313131313131315, -2.929292929292929, -2.7272727272727275, -2.525252525252525, -2.3232323232323235, -2.121212121212121, -1.9191919191919187, -1.717171717171718, -1.5151515151515156, -1.3131313131313131, -1.1111111111111107, -0.9090909090909101, -0.7070707070707076, -0.5050505050505052, -0.30303030303030276, -0.10101010101010033, 0.10101010101010033, 0.30303030303030276, 0.5050505050505052, 0.7070707070707076, 0.9090909090909083, 1.1111111111111107, 1.3131313131313131, 1.5151515151515156, 1.7171717171717162, 1.9191919191919187, 2.121212121212121, 2.3232323232323235, 2.525252525252524, 2.7272727272727266, 2.929292929292929, 3.1313131313131315, 3.333333333333334, 3.5353535353535346, 3.737373737373737, 3.9393939393939394, 4.141414141414142, 4.3434343434343425, 4.545454545454545, 4.747474747474747, 4.94949494949495, 5.1515151515151505, 5.353535353535353, 5.555555555555555, 5.757575757575758, 5.9595959595959584, 6.161616161616163, 6.363636363636363, 6.565656565656564, 6.767676767676768, 6.969696969696969, 7.171717171717173, 7.373737373737374, 7.575757575757574, 7.777777777777779, 7.979797979797979, 8.18181818181818, 8.383838383838384, 8.585858585858585, 8.787878787878789, 8.98989898989899, 9.19191919191919, 9.393939393939394, 9.595959595959595, 9.7979797979798, 10.0], \"xaxis\": \"x\", \"y\": [4.5397868702434395e-05, 5.556064893935847e-05, 6.7998317442358e-05, 8.322001972209245e-05, 0.00010184881542721271, 0.00012464714594414533, 0.00015254798624649647, 0.00018669294496130814, 0.00022847885532128418, 0.0002796147386491923, 0.00034219143371662803, 0.0004187666844443735, 0.0005124690821944584, 0.0006271249872756847, 0.000767413429918266, 0.0009390550390618305, 0.001149042294880872, 0.0014059198755086322, 0.0017201255952192596, 0.0021044044291184333, 0.0025743103931375314, 0.0031488135776798513, 0.003851032355930255, 0.004709113572114011, 0.0057572861219081835, 0.007037115364564376, 0.008598986610189428, 0.010503844513285416, 0.012825210092764685, 0.015651486142818367, 0.019088541989923387, 0.0232625358308855, 0.0283228820443032, 0.03444519566621118, 0.04183394000551971, 0.05072436056205437, 0.06138310740349217, 0.07410673632504733, 0.08921706025119844, 0.10705214621417715, 0.12795170492445268, 0.15223582314389053, 0.18017659335766972, 0.21196333386923713, 0.2476638011390717, 0.28718590138250244, 0.33024642963181144, 0.37635451749670706, 0.42481686806284763, 0.4747689239079115, 0.5252310760920885, 0.5751831319371523, 0.623645482503293, 0.6697535703681886, 0.7128140986174972, 0.7523361988609284, 0.7880366661307628, 0.8198234066423302, 0.8477641768561092, 0.8720482950755473, 0.8929478537858229, 0.9107829397488015, 0.9258932636749527, 0.9386168925965077, 0.9492756394379457, 0.9581660599944802, 0.9655548043337889, 0.9716771179556968, 0.9767374641691144, 0.9809114580100765, 0.9843485138571816, 0.9871747899072354, 0.9894961554867145, 0.9914010133898106, 0.9929628846354357, 0.9942427138780918, 0.995290886427886, 0.9961489676440697, 0.9968511864223202, 0.9974256896068625, 0.9978955955708816, 0.9982798744047808, 0.9985940801244912, 0.9988509577051191, 0.9990609449609381, 0.9992325865700818, 0.9993728750127243, 0.9994875309178055, 0.9995812333155556, 0.9996578085662833, 0.9997203852613508, 0.9997715211446788, 0.9998133070550387, 0.9998474520137535, 0.9998753528540559, 0.9998981511845727, 0.999916779980278, 0.9999320016825577, 0.9999444393510606, 0.9999546021312976], \"yaxis\": \"y\"}],                        {\"legend\": {\"tracegroupgap\": 0}, \"template\": {\"data\": {\"bar\": [{\"error_x\": {\"color\": \"#2a3f5f\"}, \"error_y\": {\"color\": \"#2a3f5f\"}, \"marker\": {\"line\": {\"color\": \"#E5ECF6\", \"width\": 0.5}}, \"type\": \"bar\"}], \"barpolar\": [{\"marker\": {\"line\": {\"color\": \"#E5ECF6\", \"width\": 0.5}}, \"type\": \"barpolar\"}], \"carpet\": [{\"aaxis\": {\"endlinecolor\": \"#2a3f5f\", \"gridcolor\": \"white\", \"linecolor\": \"white\", \"minorgridcolor\": \"white\", \"startlinecolor\": \"#2a3f5f\"}, \"baxis\": {\"endlinecolor\": \"#2a3f5f\", \"gridcolor\": \"white\", \"linecolor\": \"white\", \"minorgridcolor\": \"white\", \"startlinecolor\": \"#2a3f5f\"}, \"type\": \"carpet\"}], \"choropleth\": [{\"colorbar\": {\"outlinewidth\": 0, \"ticks\": \"\"}, \"type\": \"choropleth\"}], \"contour\": [{\"colorbar\": {\"outlinewidth\": 0, \"ticks\": \"\"}, \"colorscale\": [[0.0, \"#0d0887\"], [0.1111111111111111, \"#46039f\"], [0.2222222222222222, \"#7201a8\"], [0.3333333333333333, \"#9c179e\"], [0.4444444444444444, \"#bd3786\"], [0.5555555555555556, \"#d8576b\"], [0.6666666666666666, \"#ed7953\"], [0.7777777777777778, \"#fb9f3a\"], [0.8888888888888888, \"#fdca26\"], [1.0, \"#f0f921\"]], \"type\": \"contour\"}], \"contourcarpet\": [{\"colorbar\": {\"outlinewidth\": 0, \"ticks\": \"\"}, \"type\": \"contourcarpet\"}], \"heatmap\": [{\"colorbar\": {\"outlinewidth\": 0, \"ticks\": \"\"}, \"colorscale\": [[0.0, \"#0d0887\"], [0.1111111111111111, \"#46039f\"], [0.2222222222222222, \"#7201a8\"], [0.3333333333333333, \"#9c179e\"], [0.4444444444444444, \"#bd3786\"], [0.5555555555555556, \"#d8576b\"], [0.6666666666666666, \"#ed7953\"], [0.7777777777777778, \"#fb9f3a\"], [0.8888888888888888, \"#fdca26\"], [1.0, \"#f0f921\"]], \"type\": \"heatmap\"}], \"heatmapgl\": [{\"colorbar\": {\"outlinewidth\": 0, \"ticks\": \"\"}, \"colorscale\": [[0.0, \"#0d0887\"], [0.1111111111111111, \"#46039f\"], [0.2222222222222222, \"#7201a8\"], [0.3333333333333333, \"#9c179e\"], [0.4444444444444444, \"#bd3786\"], [0.5555555555555556, \"#d8576b\"], [0.6666666666666666, \"#ed7953\"], [0.7777777777777778, \"#fb9f3a\"], [0.8888888888888888, \"#fdca26\"], [1.0, \"#f0f921\"]], \"type\": \"heatmapgl\"}], \"histogram\": [{\"marker\": {\"colorbar\": {\"outlinewidth\": 0, \"ticks\": \"\"}}, \"type\": \"histogram\"}], \"histogram2d\": [{\"colorbar\": {\"outlinewidth\": 0, \"ticks\": \"\"}, \"colorscale\": [[0.0, \"#0d0887\"], [0.1111111111111111, \"#46039f\"], [0.2222222222222222, \"#7201a8\"], [0.3333333333333333, \"#9c179e\"], [0.4444444444444444, \"#bd3786\"], [0.5555555555555556, \"#d8576b\"], [0.6666666666666666, \"#ed7953\"], [0.7777777777777778, \"#fb9f3a\"], [0.8888888888888888, \"#fdca26\"], [1.0, \"#f0f921\"]], \"type\": \"histogram2d\"}], \"histogram2dcontour\": [{\"colorbar\": {\"outlinewidth\": 0, \"ticks\": \"\"}, \"colorscale\": [[0.0, \"#0d0887\"], [0.1111111111111111, \"#46039f\"], [0.2222222222222222, \"#7201a8\"], [0.3333333333333333, \"#9c179e\"], [0.4444444444444444, \"#bd3786\"], [0.5555555555555556, \"#d8576b\"], [0.6666666666666666, \"#ed7953\"], [0.7777777777777778, \"#fb9f3a\"], [0.8888888888888888, \"#fdca26\"], [1.0, \"#f0f921\"]], \"type\": \"histogram2dcontour\"}], \"mesh3d\": [{\"colorbar\": {\"outlinewidth\": 0, \"ticks\": \"\"}, \"type\": \"mesh3d\"}], \"parcoords\": [{\"line\": {\"colorbar\": {\"outlinewidth\": 0, \"ticks\": \"\"}}, \"type\": \"parcoords\"}], \"pie\": [{\"automargin\": true, \"type\": \"pie\"}], \"scatter\": [{\"marker\": {\"colorbar\": {\"outlinewidth\": 0, \"ticks\": \"\"}}, \"type\": \"scatter\"}], \"scatter3d\": [{\"line\": {\"colorbar\": {\"outlinewidth\": 0, \"ticks\": \"\"}}, \"marker\": {\"colorbar\": {\"outlinewidth\": 0, \"ticks\": \"\"}}, \"type\": \"scatter3d\"}], \"scattercarpet\": [{\"marker\": {\"colorbar\": {\"outlinewidth\": 0, \"ticks\": \"\"}}, \"type\": \"scattercarpet\"}], \"scattergeo\": [{\"marker\": {\"colorbar\": {\"outlinewidth\": 0, \"ticks\": \"\"}}, \"type\": \"scattergeo\"}], \"scattergl\": [{\"marker\": {\"colorbar\": {\"outlinewidth\": 0, \"ticks\": \"\"}}, \"type\": \"scattergl\"}], \"scattermapbox\": [{\"marker\": {\"colorbar\": {\"outlinewidth\": 0, \"ticks\": \"\"}}, \"type\": \"scattermapbox\"}], \"scatterpolar\": [{\"marker\": {\"colorbar\": {\"outlinewidth\": 0, \"ticks\": \"\"}}, \"type\": \"scatterpolar\"}], \"scatterpolargl\": [{\"marker\": {\"colorbar\": {\"outlinewidth\": 0, \"ticks\": \"\"}}, \"type\": \"scatterpolargl\"}], \"scatterternary\": [{\"marker\": {\"colorbar\": {\"outlinewidth\": 0, \"ticks\": \"\"}}, \"type\": \"scatterternary\"}], \"surface\": [{\"colorbar\": {\"outlinewidth\": 0, \"ticks\": \"\"}, \"colorscale\": [[0.0, \"#0d0887\"], [0.1111111111111111, \"#46039f\"], [0.2222222222222222, \"#7201a8\"], [0.3333333333333333, \"#9c179e\"], [0.4444444444444444, \"#bd3786\"], [0.5555555555555556, \"#d8576b\"], [0.6666666666666666, \"#ed7953\"], [0.7777777777777778, \"#fb9f3a\"], [0.8888888888888888, \"#fdca26\"], [1.0, \"#f0f921\"]], \"type\": \"surface\"}], \"table\": [{\"cells\": {\"fill\": {\"color\": \"#EBF0F8\"}, \"line\": {\"color\": \"white\"}}, \"header\": {\"fill\": {\"color\": \"#C8D4E3\"}, \"line\": {\"color\": \"white\"}}, \"type\": \"table\"}]}, \"layout\": {\"annotationdefaults\": {\"arrowcolor\": \"#2a3f5f\", \"arrowhead\": 0, \"arrowwidth\": 1}, \"autotypenumbers\": \"strict\", \"coloraxis\": {\"colorbar\": {\"outlinewidth\": 0, \"ticks\": \"\"}}, \"colorscale\": {\"diverging\": [[0, \"#8e0152\"], [0.1, \"#c51b7d\"], [0.2, \"#de77ae\"], [0.3, \"#f1b6da\"], [0.4, \"#fde0ef\"], [0.5, \"#f7f7f7\"], [0.6, \"#e6f5d0\"], [0.7, \"#b8e186\"], [0.8, \"#7fbc41\"], [0.9, \"#4d9221\"], [1, \"#276419\"]], \"sequential\": [[0.0, \"#0d0887\"], [0.1111111111111111, \"#46039f\"], [0.2222222222222222, \"#7201a8\"], [0.3333333333333333, \"#9c179e\"], [0.4444444444444444, \"#bd3786\"], [0.5555555555555556, \"#d8576b\"], [0.6666666666666666, \"#ed7953\"], [0.7777777777777778, \"#fb9f3a\"], [0.8888888888888888, \"#fdca26\"], [1.0, \"#f0f921\"]], \"sequentialminus\": [[0.0, \"#0d0887\"], [0.1111111111111111, \"#46039f\"], [0.2222222222222222, \"#7201a8\"], [0.3333333333333333, \"#9c179e\"], [0.4444444444444444, \"#bd3786\"], [0.5555555555555556, \"#d8576b\"], [0.6666666666666666, \"#ed7953\"], [0.7777777777777778, \"#fb9f3a\"], [0.8888888888888888, \"#fdca26\"], [1.0, \"#f0f921\"]]}, \"colorway\": [\"#636efa\", \"#EF553B\", \"#00cc96\", \"#ab63fa\", \"#FFA15A\", \"#19d3f3\", \"#FF6692\", \"#B6E880\", \"#FF97FF\", \"#FECB52\"], \"font\": {\"color\": \"#2a3f5f\"}, \"geo\": {\"bgcolor\": \"white\", \"lakecolor\": \"white\", \"landcolor\": \"#E5ECF6\", \"showlakes\": true, \"showland\": true, \"subunitcolor\": \"white\"}, \"hoverlabel\": {\"align\": \"left\"}, \"hovermode\": \"closest\", \"mapbox\": {\"style\": \"light\"}, \"paper_bgcolor\": \"white\", \"plot_bgcolor\": \"#E5ECF6\", \"polar\": {\"angularaxis\": {\"gridcolor\": \"white\", \"linecolor\": \"white\", \"ticks\": \"\"}, \"bgcolor\": \"#E5ECF6\", \"radialaxis\": {\"gridcolor\": \"white\", \"linecolor\": \"white\", \"ticks\": \"\"}}, \"scene\": {\"xaxis\": {\"backgroundcolor\": \"#E5ECF6\", \"gridcolor\": \"white\", \"gridwidth\": 2, \"linecolor\": \"white\", \"showbackground\": true, \"ticks\": \"\", \"zerolinecolor\": \"white\"}, \"yaxis\": {\"backgroundcolor\": \"#E5ECF6\", \"gridcolor\": \"white\", \"gridwidth\": 2, \"linecolor\": \"white\", \"showbackground\": true, \"ticks\": \"\", \"zerolinecolor\": \"white\"}, \"zaxis\": {\"backgroundcolor\": \"#E5ECF6\", \"gridcolor\": \"white\", \"gridwidth\": 2, \"linecolor\": \"white\", \"showbackground\": true, \"ticks\": \"\", \"zerolinecolor\": \"white\"}}, \"shapedefaults\": {\"line\": {\"color\": \"#2a3f5f\"}}, \"ternary\": {\"aaxis\": {\"gridcolor\": \"white\", \"linecolor\": \"white\", \"ticks\": \"\"}, \"baxis\": {\"gridcolor\": \"white\", \"linecolor\": \"white\", \"ticks\": \"\"}, \"bgcolor\": \"#E5ECF6\", \"caxis\": {\"gridcolor\": \"white\", \"linecolor\": \"white\", \"ticks\": \"\"}}, \"title\": {\"x\": 0.05}, \"xaxis\": {\"automargin\": true, \"gridcolor\": \"white\", \"linecolor\": \"white\", \"ticks\": \"\", \"title\": {\"standoff\": 15}, \"zerolinecolor\": \"white\", \"zerolinewidth\": 2}, \"yaxis\": {\"automargin\": true, \"gridcolor\": \"white\", \"linecolor\": \"white\", \"ticks\": \"\", \"title\": {\"standoff\": 15}, \"zerolinecolor\": \"white\", \"zerolinewidth\": 2}}}, \"title\": {\"text\": \"Sigmoid Function\"}, \"xaxis\": {\"anchor\": \"y\", \"domain\": [0.0, 1.0], \"title\": {\"text\": \"X\"}}, \"yaxis\": {\"anchor\": \"x\", \"domain\": [0.0, 1.0], \"title\": {\"text\": \"Sigmoid(X)\"}}},                        {\"responsive\": true}                    ).then(function(){\n",
       "                            \n",
       "var gd = document.getElementById('9ed5f52c-d683-4b68-959b-3f950d0cb821');\n",
       "var x = new MutationObserver(function (mutations, observer) {{\n",
       "        var display = window.getComputedStyle(gd).display;\n",
       "        if (!display || display === 'none') {{\n",
       "            console.log([gd, 'removed!']);\n",
       "            Plotly.purge(gd);\n",
       "            observer.disconnect();\n",
       "        }}\n",
       "}});\n",
       "\n",
       "// Listen for the removal of the full notebook cells\n",
       "var notebookContainer = gd.closest('#notebook-container');\n",
       "if (notebookContainer) {{\n",
       "    x.observe(notebookContainer, {childList: true});\n",
       "}}\n",
       "\n",
       "// Listen for the clearing of the current output cell\n",
       "var outputEl = gd.closest('.output');\n",
       "if (outputEl) {{\n",
       "    x.observe(outputEl, {childList: true});\n",
       "}}\n",
       "\n",
       "                        })                };                });            </script>        </div>"
      ]
     },
     "metadata": {},
     "output_type": "display_data"
    }
   ],
   "source": [
    "x=np.linspace(-10, 10, 100)\n",
    "z=1/(1+np.exp(-x))\n",
    "px.line(x=x, y=z,\n",
    "       labels={'x':'X', 'y':'Sigmoid(X)'}, title='Sigmoid Function')"
   ]
  },
  {
   "cell_type": "markdown",
   "metadata": {
    "papermill": {
     "duration": 0.033707,
     "end_time": "2021-12-30T05:11:13.604021",
     "exception": false,
     "start_time": "2021-12-30T05:11:13.570314",
     "status": "completed"
    },
    "tags": []
   },
   "source": [
    "The $\\mathbf{\\sigma}$ function puts the scores we just got and puts them on a limited range of probabilities (between 0 and 1). This results in an s shaped graph (as shown above), that gets infinitely close to 0 on the left side, and infinitely close to 1 on the right side (being able to visualize these probabilities helps with intuition).\n",
    "\n",
    "$\\hat{p}$ Shows that we are aiming to define probabilities.\n",
    "\n",
    "The $i$ in $\\mathbf{\\sigma} {(\\overrightarrow z)}_i$ lets you know that we are doing this sigmoid function for just one example (instance) of a handwritten digit.\n",
    "\n",
    "$\\overrightarrow z$ are the logits (the dot product of the weights $\\mathbf{\\theta}$ and instances $\\mathbf{x}$).\n",
    "\n",
    "$e^{zi}$ Is Euler's constant to the power of the score $z$ we just found for an individual class $i$ (one possible digit the instance could be). $e^{zj}$ Is the same idea, but we are taking the sum of all the possible digits it could be (0-9) so we use a different character $j$ to represent it.\n",
    "\n",
    "This is called taking the exponent of a number. In this case that number is the logit we computed in the softmax score function.\n",
    "\n",
    "The reason we use Euler's constant here is because it allows us to focus on the exponent's value itself (because in exponential equations the derivative of Euler's constant to any power is itself).\n",
    "\n",
    "$\\sum_{j=1}^{K}$ is the sum of the exponent of each logit ($e$ to the power of each logit over all classes for all handwritten digits.\n",
    "\n",
    "This is referred to as normalizing the exponent of the score.\n",
    "\n",
    "$$\\hat{p} = \\mathbf{\\sigma} {(\\overrightarrow z)}_i = \\frac{e^{zi}}{{\\sum_{j=1}^{K} e^{zj}}}$$\n",
    "\n",
    "Here's how we will implement it (broken up so that it's not as computationally expensive):"
   ]
  },
  {
   "cell_type": "code",
   "execution_count": 13,
   "metadata": {
    "execution": {
     "iopub.execute_input": "2021-12-30T05:11:13.678208Z",
     "iopub.status.busy": "2021-12-30T05:11:13.677066Z",
     "iopub.status.idle": "2021-12-30T05:11:13.679070Z",
     "shell.execute_reply": "2021-12-30T05:11:13.679484Z",
     "shell.execute_reply.started": "2021-12-30T04:34:36.097563Z"
    },
    "papermill": {
     "duration": 0.041781,
     "end_time": "2021-12-30T05:11:13.679608",
     "exception": false,
     "start_time": "2021-12-30T05:11:13.637827",
     "status": "completed"
    },
    "tags": []
   },
   "outputs": [],
   "source": [
    "def SoftmaxFunction(score):\n",
    "    exps = np.exp(score)\n",
    "    exp_sums = np.sum(exps, axis=1, keepdims=True)\n",
    "    return exps / exp_sums"
   ]
  },
  {
   "cell_type": "markdown",
   "metadata": {
    "papermill": {
     "duration": 0.033793,
     "end_time": "2021-12-30T05:11:13.747596",
     "exception": false,
     "start_time": "2021-12-30T05:11:13.713803",
     "status": "completed"
    },
    "tags": []
   },
   "source": [
    "# Softmax Regression Classifier Prediction"
   ]
  },
  {
   "cell_type": "markdown",
   "metadata": {
    "papermill": {
     "duration": 0.03378,
     "end_time": "2021-12-30T05:11:13.816209",
     "exception": false,
     "start_time": "2021-12-30T05:11:13.782429",
     "status": "completed"
    },
    "tags": []
   },
   "source": [
    "This function states that the class with the highest probability (the digit that it is most likely to be) will be chosen as the prediction for a given handwritten digit.\n",
    "\n",
    "$\\hat{y}$ (or y hat) represents our final prediction of what handwritten an instance is.\n",
    "\n",
    "$$\\hat{y} = \\underset{k}{\\operatorname{argmax}} \\mathbf{\\sigma}(\\mathbf{s}(\\mathbf{x}))_k = \\underset{k}{\\operatorname{argmax}}s_k(\\mathbf{x}) = \\underset{k}{\\operatorname{argmax}} ((\\mathbf{\\theta}^{(k)})^T\\mathbf{x}) $$\n",
    "\n",
    "We will implement it like this:"
   ]
  },
  {
   "cell_type": "code",
   "execution_count": 14,
   "metadata": {
    "execution": {
     "iopub.execute_input": "2021-12-30T05:11:13.889895Z",
     "iopub.status.busy": "2021-12-30T05:11:13.889041Z",
     "iopub.status.idle": "2021-12-30T05:11:13.891221Z",
     "shell.execute_reply": "2021-12-30T05:11:13.891615Z",
     "shell.execute_reply.started": "2021-12-30T04:34:36.108099Z"
    },
    "papermill": {
     "duration": 0.041232,
     "end_time": "2021-12-30T05:11:13.891725",
     "exception": false,
     "start_time": "2021-12-30T05:11:13.850493",
     "status": "completed"
    },
    "tags": []
   },
   "outputs": [],
   "source": [
    "def Prediction(p_hat):\n",
    "    y_hat = np.argmax(p_hat, axis = 1)\n",
    "    return y_hat"
   ]
  },
  {
   "cell_type": "markdown",
   "metadata": {
    "papermill": {
     "duration": 0.033764,
     "end_time": "2021-12-30T05:11:13.959859",
     "exception": false,
     "start_time": "2021-12-30T05:11:13.926095",
     "status": "completed"
    },
    "tags": []
   },
   "source": [
    "# Cross Entropy Cost Function"
   ]
  },
  {
   "cell_type": "markdown",
   "metadata": {
    "papermill": {
     "duration": 0.033859,
     "end_time": "2021-12-30T05:11:14.027875",
     "exception": false,
     "start_time": "2021-12-30T05:11:13.994016",
     "status": "completed"
    },
    "tags": []
   },
   "source": [
    "This cost function identifies how wrong a prediction was using the natural log of its probability, and multiplies by 1 (if that class was the correct one), then all of these distances get averaged together for a collective distance from the correct predictions.\n",
    "\n",
    "${J}(\\mathbf{\\Theta})$ represents the cost over the weight vector of the entire batch\n",
    "\n",
    "$m$ is the number of instances in the batch\n",
    "\n",
    "$i$ is one such instance\n",
    "\n",
    "$k$ is one possible class\n",
    "\n",
    "$K$ is a set of all of the classes\n",
    "\n",
    "$log$ is the natural log (again the base is $e$ because it simplifies our math, because the slope of the graph is constant)\n",
    "\n",
    "$y_k^{(i)}$ is either a 0 (if the handwritten digit was not of that class) or 1 (if it was part of that class)\n",
    "\n",
    "Bonus: Logarithms are useful in this situation because they \"undo\" exponential equations (because they are the inverse). So because we got $\\hat{p}$ using normalizing exponentials, taking the natural log helps us to correlate gradients more closely with larger mistakes in prediction.\n",
    "\n",
    "\n",
    "$${J}(\\mathbf{\\Theta}) = -\\frac{1}{m} \\sum_{i=1}^{m} \\sum_{k=1}^{K}y_k^{(i)} log(\\hat{p}_k^i)$$\n",
    "\n",
    "Here's how we can implement it:"
   ]
  },
  {
   "cell_type": "code",
   "execution_count": 15,
   "metadata": {
    "execution": {
     "iopub.execute_input": "2021-12-30T05:11:14.102831Z",
     "iopub.status.busy": "2021-12-30T05:11:14.101956Z",
     "iopub.status.idle": "2021-12-30T05:11:14.103933Z",
     "shell.execute_reply": "2021-12-30T05:11:14.104347Z",
     "shell.execute_reply.started": "2021-12-30T04:34:36.120104Z"
    },
    "papermill": {
     "duration": 0.042158,
     "end_time": "2021-12-30T05:11:14.104459",
     "exception": false,
     "start_time": "2021-12-30T05:11:14.062301",
     "status": "completed"
    },
    "tags": []
   },
   "outputs": [],
   "source": [
    "def xentropyloss(y, p_hat):\n",
    "    epsilon = 1e-6\n",
    "    #we will add epsilon (really small number) to p_hat \n",
    "    #before taking the log to avoid p_hat being 0\n",
    "    loss = -np.mean(np.sum(np.log(p_hat + epsilon) * y,axis=1))\n",
    "    return loss"
   ]
  },
  {
   "cell_type": "markdown",
   "metadata": {
    "papermill": {
     "duration": 0.033744,
     "end_time": "2021-12-30T05:11:14.172361",
     "exception": false,
     "start_time": "2021-12-30T05:11:14.138617",
     "status": "completed"
    },
    "tags": []
   },
   "source": [
    "# Cross Entropy Gradient Vector"
   ]
  },
  {
   "cell_type": "markdown",
   "metadata": {
    "papermill": {
     "duration": 0.034147,
     "end_time": "2021-12-30T05:11:14.240828",
     "exception": false,
     "start_time": "2021-12-30T05:11:14.206681",
     "status": "completed"
    },
    "tags": []
   },
   "source": [
    "This is the derivative of the cost function that we just defined above. This will allow us to perform gradient descent in order to optimize the cost function (lower the amount of error). \n",
    "\n",
    "$\\mathbf{\\nabla}$ (nabla) Is the math symbol for a gradient.\n",
    "\n",
    "$\\sum_{i=1}^{m}$ Takes the sum of the difference between the ground truth and the probability for all instances in the batch.\n",
    "\n",
    "Multiplying by $\\frac{1}{m}$ will give us the average cost over the entire batch.\n",
    "\n",
    "By multiplying by $\\mathbf{x}$ you effect each pixel represented in the handwritten digit.\n",
    "\n",
    "$$\\mathbf{\\nabla}_{\\theta_{k}} J(\\mathbf{\\Theta}) = \\frac{1}{m} \\sum_{i=1}^{m}(\\hat{p}_k^{(i)}-{y}_k^{(i)})\\mathbf{x}^{(i)} $$\n",
    "\n",
    "Here's how we can implement it (again, broken up so as to not be too computationally expensive):"
   ]
  },
  {
   "cell_type": "code",
   "execution_count": 16,
   "metadata": {
    "execution": {
     "iopub.execute_input": "2021-12-30T05:11:14.315338Z",
     "iopub.status.busy": "2021-12-30T05:11:14.314506Z",
     "iopub.status.idle": "2021-12-30T05:11:14.316957Z",
     "shell.execute_reply": "2021-12-30T05:11:14.316497Z",
     "shell.execute_reply.started": "2021-12-30T04:34:36.134857Z"
    },
    "papermill": {
     "duration": 0.041448,
     "end_time": "2021-12-30T05:11:14.317052",
     "exception": false,
     "start_time": "2021-12-30T05:11:14.275604",
     "status": "completed"
    },
    "tags": []
   },
   "outputs": [],
   "source": [
    "def GradientStep(p_hat, theta, y, x, lr, m):\n",
    "    cost = p_hat - y\n",
    "    gradients = 1/m * x.T.dot(cost)\n",
    "    theta = theta - lr * gradients\n",
    "    return theta\n",
    "    "
   ]
  },
  {
   "cell_type": "markdown",
   "metadata": {
    "papermill": {
     "duration": 0.033743,
     "end_time": "2021-12-30T05:11:14.384616",
     "exception": false,
     "start_time": "2021-12-30T05:11:14.350873",
     "status": "completed"
    },
    "tags": []
   },
   "source": [
    "# Putting It All Together"
   ]
  },
  {
   "cell_type": "markdown",
   "metadata": {
    "papermill": {
     "duration": 0.033818,
     "end_time": "2021-12-30T05:11:14.452727",
     "exception": false,
     "start_time": "2021-12-30T05:11:14.418909",
     "status": "completed"
    },
    "tags": []
   },
   "source": [
    "Now that we have all of our equations in place, we will put it all together!"
   ]
  },
  {
   "cell_type": "code",
   "execution_count": 17,
   "metadata": {
    "execution": {
     "iopub.execute_input": "2021-12-30T05:11:14.589894Z",
     "iopub.status.busy": "2021-12-30T05:11:14.589081Z",
     "iopub.status.idle": "2021-12-30T05:11:14.593631Z",
     "shell.execute_reply": "2021-12-30T05:11:14.593111Z",
     "shell.execute_reply.started": "2021-12-30T04:34:36.147412Z"
    },
    "papermill": {
     "duration": 0.107256,
     "end_time": "2021-12-30T05:11:14.593741",
     "exception": false,
     "start_time": "2021-12-30T05:11:14.486485",
     "status": "completed"
    },
    "tags": []
   },
   "outputs": [],
   "source": [
    "lr = 0.5\n",
    "n_inputs = X_train.shape[1]\n",
    "m = 10000 #batch size\n",
    "n_outputs = len(np.unique(y))\n",
    "epochs = 5001\n",
    "np.random.seed(2042)\n",
    "theta = np.random.randn(n_inputs, n_outputs)\n",
    "charts = {}"
   ]
  },
  {
   "cell_type": "markdown",
   "metadata": {
    "papermill": {
     "duration": 0.033711,
     "end_time": "2021-12-30T05:11:14.661390",
     "exception": false,
     "start_time": "2021-12-30T05:11:14.627679",
     "status": "completed"
    },
    "tags": []
   },
   "source": [
    "Here's a visualization of the weight vector used of the digit 7. As you can see it begins as random noise."
   ]
  },
  {
   "cell_type": "code",
   "execution_count": 18,
   "metadata": {
    "_kg_hide-input": true,
    "execution": {
     "iopub.execute_input": "2021-12-30T05:11:14.734806Z",
     "iopub.status.busy": "2021-12-30T05:11:14.734222Z",
     "iopub.status.idle": "2021-12-30T05:11:14.806360Z",
     "shell.execute_reply": "2021-12-30T05:11:14.805433Z",
     "shell.execute_reply.started": "2021-12-30T04:34:36.225167Z"
    },
    "papermill": {
     "duration": 0.111234,
     "end_time": "2021-12-30T05:11:14.806467",
     "exception": false,
     "start_time": "2021-12-30T05:11:14.695233",
     "status": "completed"
    },
    "tags": []
   },
   "outputs": [
    {
     "data": {
      "image/png": "[encoded data removed]",
      "text/plain": [
       "<Figure size 432x288 with 1 Axes>"
      ]
     },
     "metadata": {
      "needs_background": "light"
     },
     "output_type": "display_data"
    }
   ],
   "source": [
    "image_theta = theta[:,7][:784].reshape(28, 28)\n",
    "image_theta = (image_theta/image_theta.max()) * 255\n",
    "\n",
    "plt.imshow(image_theta, cmap = 'binary')\n",
    "plt.axis('off')\n",
    "plt.show()"
   ]
  },
  {
   "cell_type": "code",
   "execution_count": 19,
   "metadata": {
    "execution": {
     "iopub.execute_input": "2021-12-30T05:11:14.882975Z",
     "iopub.status.busy": "2021-12-30T05:11:14.881853Z",
     "iopub.status.idle": "2021-12-30T05:13:21.901689Z",
     "shell.execute_reply": "2021-12-30T05:13:21.900789Z",
     "shell.execute_reply.started": "2021-12-30T04:34:36.325809Z"
    },
    "papermill": {
     "duration": 127.060529,
     "end_time": "2021-12-30T05:13:21.901808",
     "exception": false,
     "start_time": "2021-12-30T05:11:14.841279",
     "status": "completed"
    },
    "tags": []
   },
   "outputs": [
    {
     "name": "stdout",
     "output_type": "stream",
     "text": [
      "0 : 10.878938871226115\n",
      "50 : 1.9716483973871328\n",
      "100 : 1.3331139084987558\n",
      "150 : 1.0921356364688097\n",
      "200 : 0.9561829112459547\n",
      "250 : 0.8655266812842394\n",
      "300 : 0.7994987429441435\n",
      "350 : 0.7484524417404076\n",
      "400 : 0.7073000377791592\n",
      "450 : 0.6730834236670674\n",
      "500 : 0.6439486972988038\n",
      "550 : 0.6186753419394124\n",
      "600 : 0.5964306634737346\n",
      "650 : 0.57662648312924\n",
      "700 : 0.5588303756713245\n",
      "750 : 0.5427129825843854\n",
      "800 : 0.5280173664657781\n",
      "850 : 0.51453982741138\n",
      "900 : 0.5021165788071363\n",
      "950 : 0.490614049511929\n",
      "1000 : 0.4799218097438682\n",
      "1050 : 0.4699474208136481\n",
      "1100 : 0.46061267193175454\n",
      "1150 : 0.45185081995486237\n",
      "1200 : 0.4436045440932125\n",
      "1250 : 0.4358243822434774\n",
      "1300 : 0.4284674740365358\n",
      "1350 : 0.4214965058672738\n",
      "1400 : 0.41487881160700835\n",
      "1450 : 0.4085856137601892\n",
      "1500 : 0.4025913981204155\n",
      "1550 : 0.3968734117394451\n",
      "1600 : 0.39141126696926876\n",
      "1650 : 0.38618662839848994\n",
      "1700 : 0.38118295834450083\n",
      "1750 : 0.37638530101471895\n",
      "1800 : 0.3717800929393422\n",
      "1850 : 0.36735499413705963\n",
      "1900 : 0.363098738544139\n",
      "1950 : 0.35900100349868846\n",
      "2000 : 0.3550522976946002\n",
      "2050 : 0.3512438662114253\n",
      "2100 : 0.34756761066612624\n",
      "2150 : 0.3440160223667366\n",
      "2200 : 0.3405821264361702\n",
      "2250 : 0.33725943503194633\n",
      "2300 : 0.33404190791656896\n",
      "2350 : 0.3309239187399233\n",
      "2400 : 0.3279002255371599\n",
      "2450 : 0.3249659441681072\n",
      "2500 : 0.3221165237248758\n",
      "2550 : 0.3193477232687652\n",
      "2600 : 0.31665558956791806\n",
      "2650 : 0.3140364357486892\n",
      "2700 : 0.3114868209271414\n",
      "2750 : 0.3090035309566073\n",
      "2800 : 0.30658356043134943\n",
      "2850 : 0.3042240960485121\n",
      "2900 : 0.3019225013728043\n",
      "2950 : 0.2996763029879361\n",
      "3000 : 0.2974831779672073\n",
      "3050 : 0.2953409425588009\n",
      "3100 : 0.29324754196075736\n",
      "3150 : 0.2912010410546637\n",
      "3200 : 0.289199615972381\n",
      "3250 : 0.2872415463826822\n",
      "3300 : 0.28532520840081904\n",
      "3350 : 0.28344906804091263\n",
      "3400 : 0.28161167514676433\n",
      "3450 : 0.27981165775016054\n",
      "3500 : 0.2780477168166539\n",
      "3550 : 0.276318621347209\n",
      "3600 : 0.2746232038103345\n",
      "3650 : 0.27296035588379536\n",
      "3700 : 0.2713290244881085\n",
      "3750 : 0.2697282080961335\n",
      "3800 : 0.26815695330445144\n",
      "3850 : 0.26661435165309205\n",
      "3900 : 0.2650995366806738\n",
      "3950 : 0.2636116812022827\n",
      "4000 : 0.26214999479750045\n",
      "4050 : 0.2607137214959842\n",
      "4100 : 0.25930213764793597\n",
      "4150 : 0.2579145499667424\n",
      "4200 : 0.25655029373104365\n",
      "4250 : 0.25520873113355397\n",
      "4300 : 0.2538892497641197\n",
      "4350 : 0.25259126121479875\n",
      "4400 : 0.2513141997951721\n",
      "4450 : 0.25005752134666487\n",
      "4500 : 0.2488207021453448\n",
      "4550 : 0.24760323788346242\n",
      "4600 : 0.24640464272087612\n",
      "4650 : 0.24522444839843646\n",
      "4700 : 0.24406220340635937\n",
      "4750 : 0.24291747220156332\n",
      "4800 : 0.24178983446885519\n",
      "4850 : 0.24067888442169874\n",
      "4900 : 0.23958423013906527\n",
      "4950 : 0.23850549293553808\n",
      "5000 : 0.2374423067624096\n"
     ]
    }
   ],
   "source": [
    "for epoch in range(epochs):\n",
    "    score = SoftmaxScore(X_train[:m], theta)\n",
    "    p_hat = SoftmaxFunction(score)\n",
    "    if epoch % 50 == 0:\n",
    "        loss = xentropyloss(y_train_one_hot[:m], p_hat)\n",
    "        print(epoch, ':', loss )\n",
    "        charts[str(epoch)] = loss\n",
    "    theta = GradientStep(p_hat, theta, y_train_one_hot[:m], X_train[:m], lr, m)"
   ]
  },
  {
   "cell_type": "markdown",
   "metadata": {
    "papermill": {
     "duration": 0.071912,
     "end_time": "2021-12-30T05:13:22.048661",
     "exception": false,
     "start_time": "2021-12-30T05:13:21.976749",
     "status": "completed"
    },
    "tags": []
   },
   "source": [
    "Here's a plot of how training optimizes the loss function."
   ]
  },
  {
   "cell_type": "code",
   "execution_count": 20,
   "metadata": {
    "_kg_hide-input": true,
    "execution": {
     "iopub.execute_input": "2021-12-30T05:13:22.208993Z",
     "iopub.status.busy": "2021-12-30T05:13:22.207601Z",
     "iopub.status.idle": "2021-12-30T05:13:22.279780Z",
     "shell.execute_reply": "2021-12-30T05:13:22.280313Z",
     "shell.execute_reply.started": "2021-12-30T04:45:59.006372Z"
    },
    "papermill": {
     "duration": 0.161188,
     "end_time": "2021-12-30T05:13:22.280458",
     "exception": false,
     "start_time": "2021-12-30T05:13:22.119270",
     "status": "completed"
    },
    "tags": []
   },
   "outputs": [
    {
     "data": {
      "application/vnd.plotly.v1+json": {
       "config": {
        "plotlyServerURL": "https://plot.ly"
       },
       "data": [
        {
         "hovertemplate": "variable=0<br>index=%{x}<br>value=%{y}<extra></extra>",
         "legendgroup": "0",
         "line": {
          "color": "#636efa",
          "dash": "solid"
         },
         "mode": "lines",
         "name": "0",
         "orientation": "v",
         "showlegend": true,
         "type": "scatter",
         "x": [
          0,
          1,
          2,
          3,
          4,
          5,
          6,
          7,
          8,
          9,
          10,
          11,
          12,
          13,
          14,
          15,
          16,
          17,
          18,
          19,
          20,
          21,
          22,
          23,
          24,
          25,
          26,
          27,
          28,
          29,
          30,
          31,
          32,
          33,
          34,
          35,
          36,
          37,
          38,
          39,
          40,
          41,
          42,
          43,
          44,
          45,
          46,
          47,
          48,
          49,
          50,
          51,
          52,
          53,
          54,
          55,
          56,
          57,
          58,
          59,
          60,
          61,
          62,
          63,
          64,
          65,
          66,
          67,
          68,
          69,
          70,
          71,
          72,
          73,
          74,
          75,
          76,
          77,
          78,
          79,
          80,
          81,
          82,
          83,
          84,
          85,
          86,
          87,
          88,
          89,
          90,
          91,
          92,
          93,
          94,
          95,
          96,
          97,
          98,
          99
         ],
         "xaxis": "x",
         "y": [
          1.9716483973871328,
          1.3331139084987558,
          1.0921356364688097,
          0.9561829112459547,
          0.8655266812842394,
          0.7994987429441435,
          0.7484524417404076,
          0.7073000377791592,
          0.6730834236670674,
          0.6439486972988038,
          0.6186753419394124,
          0.5964306634737346,
          0.57662648312924,
          0.5588303756713245,
          0.5427129825843854,
          0.5280173664657781,
          0.51453982741138,
          0.5021165788071363,
          0.490614049511929,
          0.4799218097438682,
          0.4699474208136481,
          0.46061267193175454,
          0.45185081995486237,
          0.4436045440932125,
          0.4358243822434774,
          0.4284674740365358,
          0.4214965058672738,
          0.41487881160700835,
          0.4085856137601892,
          0.4025913981204155,
          0.3968734117394451,
          0.39141126696926876,
          0.38618662839848994,
          0.38118295834450083,
          0.37638530101471895,
          0.3717800929393422,
          0.36735499413705963,
          0.363098738544139,
          0.35900100349868846,
          0.3550522976946002,
          0.3512438662114253,
          0.34756761066612624,
          0.3440160223667366,
          0.3405821264361702,
          0.33725943503194633,
          0.33404190791656896,
          0.3309239187399233,
          0.3279002255371599,
          0.3249659441681072,
          0.3221165237248758,
          0.3193477232687652,
          0.31665558956791806,
          0.3140364357486892,
          0.3114868209271414,
          0.3090035309566073,
          0.30658356043134943,
          0.3042240960485121,
          0.3019225013728043,
          0.2996763029879361,
          0.2974831779672073,
          0.2953409425588009,
          0.29324754196075736,
          0.2912010410546637,
          0.289199615972381,
          0.2872415463826822,
          0.28532520840081904,
          0.28344906804091263,
          0.28161167514676433,
          0.27981165775016054,
          0.2780477168166539,
          0.276318621347209,
          0.2746232038103345,
          0.27296035588379536,
          0.2713290244881085,
          0.2697282080961335,
          0.26815695330445144,
          0.26661435165309205,
          0.2650995366806738,
          0.2636116812022827,
          0.26214999479750045,
          0.2607137214959842,
          0.25930213764793597,
          0.2579145499667424,
          0.25655029373104365,
          0.25520873113355397,
          0.2538892497641197,
          0.25259126121479875,
          0.2513141997951721,
          0.25005752134666487,
          0.2488207021453448,
          0.24760323788346242,
          0.24640464272087612,
          0.24522444839843646,
          0.24406220340635937,
          0.24291747220156332,
          0.24178983446885519,
          0.24067888442169874,
          0.23958423013906527,
          0.23850549293553808,
          0.2374423067624096
         ],
         "yaxis": "y"
        }
       ],
       "layout": {
        "legend": {
         "title": {
          "text": "variable"
         },
         "tracegroupgap": 0
        },
        "template": {
         "data": {
          "bar": [
           {
            "error_x": {
             "color": "#2a3f5f"
            },
            "error_y": {
             "color": "#2a3f5f"
            },
            "marker": {
             "line": {
              "color": "#E5ECF6",
              "width": 0.5
             }
            },
            "type": "bar"
           }
          ],
          "barpolar": [
           {
            "marker": {
             "line": {
              "color": "#E5ECF6",
              "width": 0.5
             }
            },
            "type": "barpolar"
           }
          ],
          "carpet": [
           {
            "aaxis": {
             "endlinecolor": "#2a3f5f",
             "gridcolor": "white",
             "linecolor": "white",
             "minorgridcolor": "white",
             "startlinecolor": "#2a3f5f"
            },
            "baxis": {
             "endlinecolor": "#2a3f5f",
             "gridcolor": "white",
             "linecolor": "white",
             "minorgridcolor": "white",
             "startlinecolor": "#2a3f5f"
            },
            "type": "carpet"
           }
          ],
          "choropleth": [
           {
            "colorbar": {
             "outlinewidth": 0,
             "ticks": ""
            },
            "type": "choropleth"
           }
          ],
          "contour": [
           {
            "colorbar": {
             "outlinewidth": 0,
             "ticks": ""
            },
            "colorscale": [
             [
              0.0,
              "#0d0887"
             ],
             [
              0.1111111111111111,
              "#46039f"
             ],
             [
              0.2222222222222222,
              "#7201a8"
             ],
             [
              0.3333333333333333,
              "#9c179e"
             ],
             [
              0.4444444444444444,
              "#bd3786"
             ],
             [
              0.5555555555555556,
              "#d8576b"
             ],
             [
              0.6666666666666666,
              "#ed7953"
             ],
             [
              0.7777777777777778,
              "#fb9f3a"
             ],
             [
              0.8888888888888888,
              "#fdca26"
             ],
             [
              1.0,
              "#f0f921"
             ]
            ],
            "type": "contour"
           }
          ],
          "contourcarpet": [
           {
            "colorbar": {
             "outlinewidth": 0,
             "ticks": ""
            },
            "type": "contourcarpet"
           }
          ],
          "heatmap": [
           {
            "colorbar": {
             "outlinewidth": 0,
             "ticks": ""
            },
            "colorscale": [
             [
              0.0,
              "#0d0887"
             ],
             [
              0.1111111111111111,
              "#46039f"
             ],
             [
              0.2222222222222222,
              "#7201a8"
             ],
             [
              0.3333333333333333,
              "#9c179e"
             ],
             [
              0.4444444444444444,
              "#bd3786"
             ],
             [
              0.5555555555555556,
              "#d8576b"
             ],
             [
              0.6666666666666666,
              "#ed7953"
             ],
             [
              0.7777777777777778,
              "#fb9f3a"
             ],
             [
              0.8888888888888888,
              "#fdca26"
             ],
             [
              1.0,
              "#f0f921"
             ]
            ],
            "type": "heatmap"
           }
          ],
          "heatmapgl": [
           {
            "colorbar": {
             "outlinewidth": 0,
             "ticks": ""
            },
            "colorscale": [
             [
              0.0,
              "#0d0887"
             ],
             [
              0.1111111111111111,
              "#46039f"
             ],
             [
              0.2222222222222222,
              "#7201a8"
             ],
             [
              0.3333333333333333,
              "#9c179e"
             ],
             [
              0.4444444444444444,
              "#bd3786"
             ],
             [
              0.5555555555555556,
              "#d8576b"
             ],
             [
              0.6666666666666666,
              "#ed7953"
             ],
             [
              0.7777777777777778,
              "#fb9f3a"
             ],
             [
              0.8888888888888888,
              "#fdca26"
             ],
             [
              1.0,
              "#f0f921"
             ]
            ],
            "type": "heatmapgl"
           }
          ],
          "histogram": [
           {
            "marker": {
             "colorbar": {
              "outlinewidth": 0,
              "ticks": ""
             }
            },
            "type": "histogram"
           }
          ],
          "histogram2d": [
           {
            "colorbar": {
             "outlinewidth": 0,
             "ticks": ""
            },
            "colorscale": [
             [
              0.0,
              "#0d0887"
             ],
             [
              0.1111111111111111,
              "#46039f"
             ],
             [
              0.2222222222222222,
              "#7201a8"
             ],
             [
              0.3333333333333333,
              "#9c179e"
             ],
             [
              0.4444444444444444,
              "#bd3786"
             ],
             [
              0.5555555555555556,
              "#d8576b"
             ],
             [
              0.6666666666666666,
              "#ed7953"
             ],
             [
              0.7777777777777778,
              "#fb9f3a"
             ],
             [
              0.8888888888888888,
              "#fdca26"
             ],
             [
              1.0,
              "#f0f921"
             ]
            ],
            "type": "histogram2d"
           }
          ],
          "histogram2dcontour": [
           {
            "colorbar": {
             "outlinewidth": 0,
             "ticks": ""
            },
            "colorscale": [
             [
              0.0,
              "#0d0887"
             ],
             [
              0.1111111111111111,
              "#46039f"
             ],
             [
              0.2222222222222222,
              "#7201a8"
             ],
             [
              0.3333333333333333,
              "#9c179e"
             ],
             [
              0.4444444444444444,
              "#bd3786"
             ],
             [
              0.5555555555555556,
              "#d8576b"
             ],
             [
              0.6666666666666666,
              "#ed7953"
             ],
             [
              0.7777777777777778,
              "#fb9f3a"
             ],
             [
              0.8888888888888888,
              "#fdca26"
             ],
             [
              1.0,
              "#f0f921"
             ]
            ],
            "type": "histogram2dcontour"
           }
          ],
          "mesh3d": [
           {
            "colorbar": {
             "outlinewidth": 0,
             "ticks": ""
            },
            "type": "mesh3d"
           }
          ],
          "parcoords": [
           {
            "line": {
             "colorbar": {
              "outlinewidth": 0,
              "ticks": ""
             }
            },
            "type": "parcoords"
           }
          ],
          "pie": [
           {
            "automargin": true,
            "type": "pie"
           }
          ],
          "scatter": [
           {
            "marker": {
             "colorbar": {
              "outlinewidth": 0,
              "ticks": ""
             }
            },
            "type": "scatter"
           }
          ],
          "scatter3d": [
           {
            "line": {
             "colorbar": {
              "outlinewidth": 0,
              "ticks": ""
             }
            },
            "marker": {
             "colorbar": {
              "outlinewidth": 0,
              "ticks": ""
             }
            },
            "type": "scatter3d"
           }
          ],
          "scattercarpet": [
           {
            "marker": {
             "colorbar": {
              "outlinewidth": 0,
              "ticks": ""
             }
            },
            "type": "scattercarpet"
           }
          ],
          "scattergeo": [
           {
            "marker": {
             "colorbar": {
              "outlinewidth": 0,
              "ticks": ""
             }
            },
            "type": "scattergeo"
           }
          ],
          "scattergl": [
           {
            "marker": {
             "colorbar": {
              "outlinewidth": 0,
              "ticks": ""
             }
            },
            "type": "scattergl"
           }
          ],
          "scattermapbox": [
           {
            "marker": {
             "colorbar": {
              "outlinewidth": 0,
              "ticks": ""
             }
            },
            "type": "scattermapbox"
           }
          ],
          "scatterpolar": [
           {
            "marker": {
             "colorbar": {
              "outlinewidth": 0,
              "ticks": ""
             }
            },
            "type": "scatterpolar"
           }
          ],
          "scatterpolargl": [
           {
            "marker": {
             "colorbar": {
              "outlinewidth": 0,
              "ticks": ""
             }
            },
            "type": "scatterpolargl"
           }
          ],
          "scatterternary": [
           {
            "marker": {
             "colorbar": {
              "outlinewidth": 0,
              "ticks": ""
             }
            },
            "type": "scatterternary"
           }
          ],
          "surface": [
           {
            "colorbar": {
             "outlinewidth": 0,
             "ticks": ""
            },
            "colorscale": [
             [
              0.0,
              "#0d0887"
             ],
             [
              0.1111111111111111,
              "#46039f"
             ],
             [
              0.2222222222222222,
              "#7201a8"
             ],
             [
              0.3333333333333333,
              "#9c179e"
             ],
             [
              0.4444444444444444,
              "#bd3786"
             ],
             [
              0.5555555555555556,
              "#d8576b"
             ],
             [
              0.6666666666666666,
              "#ed7953"
             ],
             [
              0.7777777777777778,
              "#fb9f3a"
             ],
             [
              0.8888888888888888,
              "#fdca26"
             ],
             [
              1.0,
              "#f0f921"
             ]
            ],
            "type": "surface"
           }
          ],
          "table": [
           {
            "cells": {
             "fill": {
              "color": "#EBF0F8"
             },
             "line": {
              "color": "white"
             }
            },
            "header": {
             "fill": {
              "color": "#C8D4E3"
             },
             "line": {
              "color": "white"
             }
            },
            "type": "table"
           }
          ]
         },
         "layout": {
          "annotationdefaults": {
           "arrowcolor": "#2a3f5f",
           "arrowhead": 0,
           "arrowwidth": 1
          },
          "autotypenumbers": "strict",
          "coloraxis": {
           "colorbar": {
            "outlinewidth": 0,
            "ticks": ""
           }
          },
          "colorscale": {
           "diverging": [
            [
             0,
             "#8e0152"
            ],
            [
             0.1,
             "#c51b7d"
            ],
            [
             0.2,
             "#de77ae"
            ],
            [
             0.3,
             "#f1b6da"
            ],
            [
             0.4,
             "#fde0ef"
            ],
            [
             0.5,
             "#f7f7f7"
            ],
            [
             0.6,
             "#e6f5d0"
            ],
            [
             0.7,
             "#b8e186"
            ],
            [
             0.8,
             "#7fbc41"
            ],
            [
             0.9,
             "#4d9221"
            ],
            [
             1,
             "#276419"
            ]
           ],
           "sequential": [
            [
             0.0,
             "#0d0887"
            ],
            [
             0.1111111111111111,
             "#46039f"
            ],
            [
             0.2222222222222222,
             "#7201a8"
            ],
            [
             0.3333333333333333,
             "#9c179e"
            ],
            [
             0.4444444444444444,
             "#bd3786"
            ],
            [
             0.5555555555555556,
             "#d8576b"
            ],
            [
             0.6666666666666666,
             "#ed7953"
            ],
            [
             0.7777777777777778,
             "#fb9f3a"
            ],
            [
             0.8888888888888888,
             "#fdca26"
            ],
            [
             1.0,
             "#f0f921"
            ]
           ],
           "sequentialminus": [
            [
             0.0,
             "#0d0887"
            ],
            [
             0.1111111111111111,
             "#46039f"
            ],
            [
             0.2222222222222222,
             "#7201a8"
            ],
            [
             0.3333333333333333,
             "#9c179e"
            ],
            [
             0.4444444444444444,
             "#bd3786"
            ],
            [
             0.5555555555555556,
             "#d8576b"
            ],
            [
             0.6666666666666666,
             "#ed7953"
            ],
            [
             0.7777777777777778,
             "#fb9f3a"
            ],
            [
             0.8888888888888888,
             "#fdca26"
            ],
            [
             1.0,
             "#f0f921"
            ]
           ]
          },
          "colorway": [
           "#636efa",
           "#EF553B",
           "#00cc96",
           "#ab63fa",
           "#FFA15A",
           "#19d3f3",
           "#FF6692",
           "#B6E880",
           "#FF97FF",
           "#FECB52"
          ],
          "font": {
           "color": "#2a3f5f"
          },
          "geo": {
           "bgcolor": "white",
           "lakecolor": "white",
           "landcolor": "#E5ECF6",
           "showlakes": true,
           "showland": true,
           "subunitcolor": "white"
          },
          "hoverlabel": {
           "align": "left"
          },
          "hovermode": "closest",
          "mapbox": {
           "style": "light"
          },
          "paper_bgcolor": "white",
          "plot_bgcolor": "#E5ECF6",
          "polar": {
           "angularaxis": {
            "gridcolor": "white",
            "linecolor": "white",
            "ticks": ""
           },
           "bgcolor": "#E5ECF6",
           "radialaxis": {
            "gridcolor": "white",
            "linecolor": "white",
            "ticks": ""
           }
          },
          "scene": {
           "xaxis": {
            "backgroundcolor": "#E5ECF6",
            "gridcolor": "white",
            "gridwidth": 2,
            "linecolor": "white",
            "showbackground": true,
            "ticks": "",
            "zerolinecolor": "white"
           },
           "yaxis": {
            "backgroundcolor": "#E5ECF6",
            "gridcolor": "white",
            "gridwidth": 2,
            "linecolor": "white",
            "showbackground": true,
            "ticks": "",
            "zerolinecolor": "white"
           },
           "zaxis": {
            "backgroundcolor": "#E5ECF6",
            "gridcolor": "white",
            "gridwidth": 2,
            "linecolor": "white",
            "showbackground": true,
            "ticks": "",
            "zerolinecolor": "white"
           }
          },
          "shapedefaults": {
           "line": {
            "color": "#2a3f5f"
           }
          },
          "ternary": {
           "aaxis": {
            "gridcolor": "white",
            "linecolor": "white",
            "ticks": ""
           },
           "baxis": {
            "gridcolor": "white",
            "linecolor": "white",
            "ticks": ""
           },
           "bgcolor": "#E5ECF6",
           "caxis": {
            "gridcolor": "white",
            "linecolor": "white",
            "ticks": ""
           }
          },
          "title": {
           "x": 0.05
          },
          "xaxis": {
           "automargin": true,
           "gridcolor": "white",
           "linecolor": "white",
           "ticks": "",
           "title": {
            "standoff": 15
           },
           "zerolinecolor": "white",
           "zerolinewidth": 2
          },
          "yaxis": {
           "automargin": true,
           "gridcolor": "white",
           "linecolor": "white",
           "ticks": "",
           "title": {
            "standoff": 15
           },
           "zerolinecolor": "white",
           "zerolinewidth": 2
          }
         }
        },
        "title": {
         "text": "Training Loss"
        },
        "xaxis": {
         "anchor": "y",
         "domain": [
          0.0,
          1.0
         ],
         "title": {
          "text": "Epoch (Each One is 50)"
         }
        },
        "yaxis": {
         "anchor": "x",
         "domain": [
          0.0,
          1.0
         ],
         "title": {
          "text": "Loss"
         }
        }
       }
      },
      "text/html": [
       "<div>                            <div id=\"0e964152-f1de-4caa-9f58-879585c61032\" class=\"plotly-graph-div\" style=\"height:525px; width:100%;\"></div>            <script type=\"text/javascript\">                require([\"plotly\"], function(Plotly) {                    window.PLOTLYENV=window.PLOTLYENV || {};                                    if (document.getElementById(\"0e964152-f1de-4caa-9f58-879585c61032\")) {                    Plotly.newPlot(                        \"0e964152-f1de-4caa-9f58-879585c61032\",                        [{\"hovertemplate\": \"variable=0<br>index=%{x}<br>value=%{y}<extra></extra>\", \"legendgroup\": \"0\", \"line\": {\"color\": \"#636efa\", \"dash\": \"solid\"}, \"mode\": \"lines\", \"name\": \"0\", \"orientation\": \"v\", \"showlegend\": true, \"type\": \"scatter\", \"x\": [0, 1, 2, 3, 4, 5, 6, 7, 8, 9, 10, 11, 12, 13, 14, 15, 16, 17, 18, 19, 20, 21, 22, 23, 24, 25, 26, 27, 28, 29, 30, 31, 32, 33, 34, 35, 36, 37, 38, 39, 40, 41, 42, 43, 44, 45, 46, 47, 48, 49, 50, 51, 52, 53, 54, 55, 56, 57, 58, 59, 60, 61, 62, 63, 64, 65, 66, 67, 68, 69, 70, 71, 72, 73, 74, 75, 76, 77, 78, 79, 80, 81, 82, 83, 84, 85, 86, 87, 88, 89, 90, 91, 92, 93, 94, 95, 96, 97, 98, 99], \"xaxis\": \"x\", \"y\": [1.9716483973871328, 1.3331139084987558, 1.0921356364688097, 0.9561829112459547, 0.8655266812842394, 0.7994987429441435, 0.7484524417404076, 0.7073000377791592, 0.6730834236670674, 0.6439486972988038, 0.6186753419394124, 0.5964306634737346, 0.57662648312924, 0.5588303756713245, 0.5427129825843854, 0.5280173664657781, 0.51453982741138, 0.5021165788071363, 0.490614049511929, 0.4799218097438682, 0.4699474208136481, 0.46061267193175454, 0.45185081995486237, 0.4436045440932125, 0.4358243822434774, 0.4284674740365358, 0.4214965058672738, 0.41487881160700835, 0.4085856137601892, 0.4025913981204155, 0.3968734117394451, 0.39141126696926876, 0.38618662839848994, 0.38118295834450083, 0.37638530101471895, 0.3717800929393422, 0.36735499413705963, 0.363098738544139, 0.35900100349868846, 0.3550522976946002, 0.3512438662114253, 0.34756761066612624, 0.3440160223667366, 0.3405821264361702, 0.33725943503194633, 0.33404190791656896, 0.3309239187399233, 0.3279002255371599, 0.3249659441681072, 0.3221165237248758, 0.3193477232687652, 0.31665558956791806, 0.3140364357486892, 0.3114868209271414, 0.3090035309566073, 0.30658356043134943, 0.3042240960485121, 0.3019225013728043, 0.2996763029879361, 0.2974831779672073, 0.2953409425588009, 0.29324754196075736, 0.2912010410546637, 0.289199615972381, 0.2872415463826822, 0.28532520840081904, 0.28344906804091263, 0.28161167514676433, 0.27981165775016054, 0.2780477168166539, 0.276318621347209, 0.2746232038103345, 0.27296035588379536, 0.2713290244881085, 0.2697282080961335, 0.26815695330445144, 0.26661435165309205, 0.2650995366806738, 0.2636116812022827, 0.26214999479750045, 0.2607137214959842, 0.25930213764793597, 0.2579145499667424, 0.25655029373104365, 0.25520873113355397, 0.2538892497641197, 0.25259126121479875, 0.2513141997951721, 0.25005752134666487, 0.2488207021453448, 0.24760323788346242, 0.24640464272087612, 0.24522444839843646, 0.24406220340635937, 0.24291747220156332, 0.24178983446885519, 0.24067888442169874, 0.23958423013906527, 0.23850549293553808, 0.2374423067624096], \"yaxis\": \"y\"}],                        {\"legend\": {\"title\": {\"text\": \"variable\"}, \"tracegroupgap\": 0}, \"template\": {\"data\": {\"bar\": [{\"error_x\": {\"color\": \"#2a3f5f\"}, \"error_y\": {\"color\": \"#2a3f5f\"}, \"marker\": {\"line\": {\"color\": \"#E5ECF6\", \"width\": 0.5}}, \"type\": \"bar\"}], \"barpolar\": [{\"marker\": {\"line\": {\"color\": \"#E5ECF6\", \"width\": 0.5}}, \"type\": \"barpolar\"}], \"carpet\": [{\"aaxis\": {\"endlinecolor\": \"#2a3f5f\", \"gridcolor\": \"white\", \"linecolor\": \"white\", \"minorgridcolor\": \"white\", \"startlinecolor\": \"#2a3f5f\"}, \"baxis\": {\"endlinecolor\": \"#2a3f5f\", \"gridcolor\": \"white\", \"linecolor\": \"white\", \"minorgridcolor\": \"white\", \"startlinecolor\": \"#2a3f5f\"}, \"type\": \"carpet\"}], \"choropleth\": [{\"colorbar\": {\"outlinewidth\": 0, \"ticks\": \"\"}, \"type\": \"choropleth\"}], \"contour\": [{\"colorbar\": {\"outlinewidth\": 0, \"ticks\": \"\"}, \"colorscale\": [[0.0, \"#0d0887\"], [0.1111111111111111, \"#46039f\"], [0.2222222222222222, \"#7201a8\"], [0.3333333333333333, \"#9c179e\"], [0.4444444444444444, \"#bd3786\"], [0.5555555555555556, \"#d8576b\"], [0.6666666666666666, \"#ed7953\"], [0.7777777777777778, \"#fb9f3a\"], [0.8888888888888888, \"#fdca26\"], [1.0, \"#f0f921\"]], \"type\": \"contour\"}], \"contourcarpet\": [{\"colorbar\": {\"outlinewidth\": 0, \"ticks\": \"\"}, \"type\": \"contourcarpet\"}], \"heatmap\": [{\"colorbar\": {\"outlinewidth\": 0, \"ticks\": \"\"}, \"colorscale\": [[0.0, \"#0d0887\"], [0.1111111111111111, \"#46039f\"], [0.2222222222222222, \"#7201a8\"], [0.3333333333333333, \"#9c179e\"], [0.4444444444444444, \"#bd3786\"], [0.5555555555555556, \"#d8576b\"], [0.6666666666666666, \"#ed7953\"], [0.7777777777777778, \"#fb9f3a\"], [0.8888888888888888, \"#fdca26\"], [1.0, \"#f0f921\"]], \"type\": \"heatmap\"}], \"heatmapgl\": [{\"colorbar\": {\"outlinewidth\": 0, \"ticks\": \"\"}, \"colorscale\": [[0.0, \"#0d0887\"], [0.1111111111111111, \"#46039f\"], [0.2222222222222222, \"#7201a8\"], [0.3333333333333333, \"#9c179e\"], [0.4444444444444444, \"#bd3786\"], [0.5555555555555556, \"#d8576b\"], [0.6666666666666666, \"#ed7953\"], [0.7777777777777778, \"#fb9f3a\"], [0.8888888888888888, \"#fdca26\"], [1.0, \"#f0f921\"]], \"type\": \"heatmapgl\"}], \"histogram\": [{\"marker\": {\"colorbar\": {\"outlinewidth\": 0, \"ticks\": \"\"}}, \"type\": \"histogram\"}], \"histogram2d\": [{\"colorbar\": {\"outlinewidth\": 0, \"ticks\": \"\"}, \"colorscale\": [[0.0, \"#0d0887\"], [0.1111111111111111, \"#46039f\"], [0.2222222222222222, \"#7201a8\"], [0.3333333333333333, \"#9c179e\"], [0.4444444444444444, \"#bd3786\"], [0.5555555555555556, \"#d8576b\"], [0.6666666666666666, \"#ed7953\"], [0.7777777777777778, \"#fb9f3a\"], [0.8888888888888888, \"#fdca26\"], [1.0, \"#f0f921\"]], \"type\": \"histogram2d\"}], \"histogram2dcontour\": [{\"colorbar\": {\"outlinewidth\": 0, \"ticks\": \"\"}, \"colorscale\": [[0.0, \"#0d0887\"], [0.1111111111111111, \"#46039f\"], [0.2222222222222222, \"#7201a8\"], [0.3333333333333333, \"#9c179e\"], [0.4444444444444444, \"#bd3786\"], [0.5555555555555556, \"#d8576b\"], [0.6666666666666666, \"#ed7953\"], [0.7777777777777778, \"#fb9f3a\"], [0.8888888888888888, \"#fdca26\"], [1.0, \"#f0f921\"]], \"type\": \"histogram2dcontour\"}], \"mesh3d\": [{\"colorbar\": {\"outlinewidth\": 0, \"ticks\": \"\"}, \"type\": \"mesh3d\"}], \"parcoords\": [{\"line\": {\"colorbar\": {\"outlinewidth\": 0, \"ticks\": \"\"}}, \"type\": \"parcoords\"}], \"pie\": [{\"automargin\": true, \"type\": \"pie\"}], \"scatter\": [{\"marker\": {\"colorbar\": {\"outlinewidth\": 0, \"ticks\": \"\"}}, \"type\": \"scatter\"}], \"scatter3d\": [{\"line\": {\"colorbar\": {\"outlinewidth\": 0, \"ticks\": \"\"}}, \"marker\": {\"colorbar\": {\"outlinewidth\": 0, \"ticks\": \"\"}}, \"type\": \"scatter3d\"}], \"scattercarpet\": [{\"marker\": {\"colorbar\": {\"outlinewidth\": 0, \"ticks\": \"\"}}, \"type\": \"scattercarpet\"}], \"scattergeo\": [{\"marker\": {\"colorbar\": {\"outlinewidth\": 0, \"ticks\": \"\"}}, \"type\": \"scattergeo\"}], \"scattergl\": [{\"marker\": {\"colorbar\": {\"outlinewidth\": 0, \"ticks\": \"\"}}, \"type\": \"scattergl\"}], \"scattermapbox\": [{\"marker\": {\"colorbar\": {\"outlinewidth\": 0, \"ticks\": \"\"}}, \"type\": \"scattermapbox\"}], \"scatterpolar\": [{\"marker\": {\"colorbar\": {\"outlinewidth\": 0, \"ticks\": \"\"}}, \"type\": \"scatterpolar\"}], \"scatterpolargl\": [{\"marker\": {\"colorbar\": {\"outlinewidth\": 0, \"ticks\": \"\"}}, \"type\": \"scatterpolargl\"}], \"scatterternary\": [{\"marker\": {\"colorbar\": {\"outlinewidth\": 0, \"ticks\": \"\"}}, \"type\": \"scatterternary\"}], \"surface\": [{\"colorbar\": {\"outlinewidth\": 0, \"ticks\": \"\"}, \"colorscale\": [[0.0, \"#0d0887\"], [0.1111111111111111, \"#46039f\"], [0.2222222222222222, \"#7201a8\"], [0.3333333333333333, \"#9c179e\"], [0.4444444444444444, \"#bd3786\"], [0.5555555555555556, \"#d8576b\"], [0.6666666666666666, \"#ed7953\"], [0.7777777777777778, \"#fb9f3a\"], [0.8888888888888888, \"#fdca26\"], [1.0, \"#f0f921\"]], \"type\": \"surface\"}], \"table\": [{\"cells\": {\"fill\": {\"color\": \"#EBF0F8\"}, \"line\": {\"color\": \"white\"}}, \"header\": {\"fill\": {\"color\": \"#C8D4E3\"}, \"line\": {\"color\": \"white\"}}, \"type\": \"table\"}]}, \"layout\": {\"annotationdefaults\": {\"arrowcolor\": \"#2a3f5f\", \"arrowhead\": 0, \"arrowwidth\": 1}, \"autotypenumbers\": \"strict\", \"coloraxis\": {\"colorbar\": {\"outlinewidth\": 0, \"ticks\": \"\"}}, \"colorscale\": {\"diverging\": [[0, \"#8e0152\"], [0.1, \"#c51b7d\"], [0.2, \"#de77ae\"], [0.3, \"#f1b6da\"], [0.4, \"#fde0ef\"], [0.5, \"#f7f7f7\"], [0.6, \"#e6f5d0\"], [0.7, \"#b8e186\"], [0.8, \"#7fbc41\"], [0.9, \"#4d9221\"], [1, \"#276419\"]], \"sequential\": [[0.0, \"#0d0887\"], [0.1111111111111111, \"#46039f\"], [0.2222222222222222, \"#7201a8\"], [0.3333333333333333, \"#9c179e\"], [0.4444444444444444, \"#bd3786\"], [0.5555555555555556, \"#d8576b\"], [0.6666666666666666, \"#ed7953\"], [0.7777777777777778, \"#fb9f3a\"], [0.8888888888888888, \"#fdca26\"], [1.0, \"#f0f921\"]], \"sequentialminus\": [[0.0, \"#0d0887\"], [0.1111111111111111, \"#46039f\"], [0.2222222222222222, \"#7201a8\"], [0.3333333333333333, \"#9c179e\"], [0.4444444444444444, \"#bd3786\"], [0.5555555555555556, \"#d8576b\"], [0.6666666666666666, \"#ed7953\"], [0.7777777777777778, \"#fb9f3a\"], [0.8888888888888888, \"#fdca26\"], [1.0, \"#f0f921\"]]}, \"colorway\": [\"#636efa\", \"#EF553B\", \"#00cc96\", \"#ab63fa\", \"#FFA15A\", \"#19d3f3\", \"#FF6692\", \"#B6E880\", \"#FF97FF\", \"#FECB52\"], \"font\": {\"color\": \"#2a3f5f\"}, \"geo\": {\"bgcolor\": \"white\", \"lakecolor\": \"white\", \"landcolor\": \"#E5ECF6\", \"showlakes\": true, \"showland\": true, \"subunitcolor\": \"white\"}, \"hoverlabel\": {\"align\": \"left\"}, \"hovermode\": \"closest\", \"mapbox\": {\"style\": \"light\"}, \"paper_bgcolor\": \"white\", \"plot_bgcolor\": \"#E5ECF6\", \"polar\": {\"angularaxis\": {\"gridcolor\": \"white\", \"linecolor\": \"white\", \"ticks\": \"\"}, \"bgcolor\": \"#E5ECF6\", \"radialaxis\": {\"gridcolor\": \"white\", \"linecolor\": \"white\", \"ticks\": \"\"}}, \"scene\": {\"xaxis\": {\"backgroundcolor\": \"#E5ECF6\", \"gridcolor\": \"white\", \"gridwidth\": 2, \"linecolor\": \"white\", \"showbackground\": true, \"ticks\": \"\", \"zerolinecolor\": \"white\"}, \"yaxis\": {\"backgroundcolor\": \"#E5ECF6\", \"gridcolor\": \"white\", \"gridwidth\": 2, \"linecolor\": \"white\", \"showbackground\": true, \"ticks\": \"\", \"zerolinecolor\": \"white\"}, \"zaxis\": {\"backgroundcolor\": \"#E5ECF6\", \"gridcolor\": \"white\", \"gridwidth\": 2, \"linecolor\": \"white\", \"showbackground\": true, \"ticks\": \"\", \"zerolinecolor\": \"white\"}}, \"shapedefaults\": {\"line\": {\"color\": \"#2a3f5f\"}}, \"ternary\": {\"aaxis\": {\"gridcolor\": \"white\", \"linecolor\": \"white\", \"ticks\": \"\"}, \"baxis\": {\"gridcolor\": \"white\", \"linecolor\": \"white\", \"ticks\": \"\"}, \"bgcolor\": \"#E5ECF6\", \"caxis\": {\"gridcolor\": \"white\", \"linecolor\": \"white\", \"ticks\": \"\"}}, \"title\": {\"x\": 0.05}, \"xaxis\": {\"automargin\": true, \"gridcolor\": \"white\", \"linecolor\": \"white\", \"ticks\": \"\", \"title\": {\"standoff\": 15}, \"zerolinecolor\": \"white\", \"zerolinewidth\": 2}, \"yaxis\": {\"automargin\": true, \"gridcolor\": \"white\", \"linecolor\": \"white\", \"ticks\": \"\", \"title\": {\"standoff\": 15}, \"zerolinecolor\": \"white\", \"zerolinewidth\": 2}}}, \"title\": {\"text\": \"Training Loss\"}, \"xaxis\": {\"anchor\": \"y\", \"domain\": [0.0, 1.0], \"title\": {\"text\": \"Epoch (Each One is 50)\"}}, \"yaxis\": {\"anchor\": \"x\", \"domain\": [0.0, 1.0], \"title\": {\"text\": \"Loss\"}}},                        {\"responsive\": true}                    ).then(function(){\n",
       "                            \n",
       "var gd = document.getElementById('0e964152-f1de-4caa-9f58-879585c61032');\n",
       "var x = new MutationObserver(function (mutations, observer) {{\n",
       "        var display = window.getComputedStyle(gd).display;\n",
       "        if (!display || display === 'none') {{\n",
       "            console.log([gd, 'removed!']);\n",
       "            Plotly.purge(gd);\n",
       "            observer.disconnect();\n",
       "        }}\n",
       "}});\n",
       "\n",
       "// Listen for the removal of the full notebook cells\n",
       "var notebookContainer = gd.closest('#notebook-container');\n",
       "if (notebookContainer) {{\n",
       "    x.observe(notebookContainer, {childList: true});\n",
       "}}\n",
       "\n",
       "// Listen for the clearing of the current output cell\n",
       "var outputEl = gd.closest('.output');\n",
       "if (outputEl) {{\n",
       "    x.observe(outputEl, {childList: true});\n",
       "}}\n",
       "\n",
       "                        })                };                });            </script>        </div>"
      ]
     },
     "metadata": {},
     "output_type": "display_data"
    }
   ],
   "source": [
    "charts.pop('0')\n",
    "fig = px.line(charts.values(), title='Training Loss', labels={'x':'Epoch', 'y':'Loss'})\n",
    "fig.update_layout(xaxis_title='Epoch (Each One is 50)', yaxis_title='Loss')"
   ]
  },
  {
   "cell_type": "code",
   "execution_count": 21,
   "metadata": {
    "execution": {
     "iopub.execute_input": "2021-12-30T05:13:22.439533Z",
     "iopub.status.busy": "2021-12-30T05:13:22.438076Z",
     "iopub.status.idle": "2021-12-30T05:13:22.593400Z",
     "shell.execute_reply": "2021-12-30T05:13:22.593917Z"
    },
    "papermill": {
     "duration": 0.23772,
     "end_time": "2021-12-30T05:13:22.594068",
     "exception": false,
     "start_time": "2021-12-30T05:13:22.356348",
     "status": "completed"
    },
    "tags": []
   },
   "outputs": [
    {
     "data": {
      "text/plain": [
       "0.8795714285714286"
      ]
     },
     "execution_count": 21,
     "metadata": {},
     "output_type": "execute_result"
    }
   ],
   "source": [
    "score = SoftmaxScore(X_val, theta)\n",
    "p_hat = SoftmaxFunction(score)\n",
    "pred = Prediction(p_hat)\n",
    "\n",
    "accuracy = np.mean(pred == categorical_to_num(y_val))\n",
    "accuracy"
   ]
  },
  {
   "cell_type": "code",
   "execution_count": 22,
   "metadata": {
    "_kg_hide-input": true,
    "execution": {
     "iopub.execute_input": "2021-12-30T05:13:22.748810Z",
     "iopub.status.busy": "2021-12-30T05:13:22.747972Z",
     "iopub.status.idle": "2021-12-30T05:13:22.792057Z",
     "shell.execute_reply": "2021-12-30T05:13:22.791592Z"
    },
    "papermill": {
     "duration": 0.121093,
     "end_time": "2021-12-30T05:13:22.792152",
     "exception": false,
     "start_time": "2021-12-30T05:13:22.671059",
     "status": "completed"
    },
    "tags": []
   },
   "outputs": [
    {
     "data": {
      "image/png": "[encoded data removed]",
      "text/plain": [
       "<Figure size 432x288 with 1 Axes>"
      ]
     },
     "metadata": {
      "needs_background": "light"
     },
     "output_type": "display_data"
    }
   ],
   "source": [
    "image_theta = theta[:,7][:784].reshape(28, 28)\n",
    "image_theta = (image_theta/image_theta.max()) * 255\n",
    "\n",
    "plt.imshow(image_theta, cmap = 'binary')\n",
    "plt.axis('off')\n",
    "plt.show()"
   ]
  },
  {
   "cell_type": "markdown",
   "metadata": {
    "papermill": {
     "duration": 0.068208,
     "end_time": "2021-12-30T05:13:22.930184",
     "exception": false,
     "start_time": "2021-12-30T05:13:22.861976",
     "status": "completed"
    },
    "tags": []
   },
   "source": [
    "It's still pretty fuzzy, but you can make out the figure of a 7 slightly."
   ]
  },
  {
   "cell_type": "code",
   "execution_count": 23,
   "metadata": {
    "execution": {
     "iopub.execute_input": "2021-12-30T05:13:23.073370Z",
     "iopub.status.busy": "2021-12-30T05:13:23.072522Z",
     "iopub.status.idle": "2021-12-30T05:13:23.076122Z",
     "shell.execute_reply": "2021-12-30T05:13:23.076572Z"
    },
    "papermill": {
     "duration": 0.077719,
     "end_time": "2021-12-30T05:13:23.076698",
     "exception": false,
     "start_time": "2021-12-30T05:13:22.998979",
     "status": "completed"
    },
    "tags": []
   },
   "outputs": [
    {
     "data": {
      "text/plain": [
       "255.0"
      ]
     },
     "execution_count": 23,
     "metadata": {},
     "output_type": "execute_result"
    }
   ],
   "source": [
    "image_theta.max()"
   ]
  },
  {
   "cell_type": "markdown",
   "metadata": {
    "papermill": {
     "duration": 0.069228,
     "end_time": "2021-12-30T05:13:23.217150",
     "exception": false,
     "start_time": "2021-12-30T05:13:23.147922",
     "status": "completed"
    },
    "tags": []
   },
   "source": [
    "For the sake of comparing to a baseline. Notice that the score that is achievable with the pre-built Scikit-Learn softmax regressor is very close to our accuracy score."
   ]
  },
  {
   "cell_type": "code",
   "execution_count": 24,
   "metadata": {
    "execution": {
     "iopub.execute_input": "2021-12-30T05:13:23.361783Z",
     "iopub.status.busy": "2021-12-30T05:13:23.360818Z",
     "iopub.status.idle": "2021-12-30T05:13:46.653791Z",
     "shell.execute_reply": "2021-12-30T05:13:46.653050Z"
    },
    "papermill": {
     "duration": 23.367732,
     "end_time": "2021-12-30T05:13:46.653905",
     "exception": false,
     "start_time": "2021-12-30T05:13:23.286173",
     "status": "completed"
    },
    "tags": []
   },
   "outputs": [
    {
     "data": {
      "text/plain": [
       "0.8814285714285715"
      ]
     },
     "execution_count": 24,
     "metadata": {},
     "output_type": "execute_result"
    }
   ],
   "source": [
    "softmax_reg = LogisticRegression(multi_class='multinomial', solver='lbfgs', C=10, max_iter = 5001)\n",
    "softmax_reg.fit(X_train[:10000], y_train[:10000])\n",
    "val_predictions = softmax_reg.predict(X_val)\n",
    "val_score = accuracy_score(y_val, val_predictions)\n",
    "val_score"
   ]
  }
 ],
 "metadata": {
  "kernelspec": {
   "display_name": "Python 3",
   "language": "python",
   "name": "python3"
  },
  "language_info": {
   "codemirror_mode": {
    "name": "ipython",
    "version": 3
   },
   "file_extension": ".py",
   "mimetype": "text/x-python",
   "name": "python",
   "nbconvert_exporter": "python",
   "pygments_lexer": "ipython3",
   "version": "3.7.6"
  },
  "papermill": {
   "duration": 212.244414,
   "end_time": "2021-12-30T05:13:46.831027",
   "environment_variables": {},
   "exception": null,
   "input_path": "__notebook__.ipynb",
   "output_path": "__notebook__.ipynb",
   "parameters": {},
   "start_time": "2021-12-30T05:10:14.586613",
   "version": "2.1.0"
  }
 },
 "nbformat": 4,
 "nbformat_minor": 4
}
